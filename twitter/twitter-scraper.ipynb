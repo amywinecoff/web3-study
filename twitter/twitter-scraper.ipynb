{
 "cells": [
  {
   "cell_type": "code",
   "execution_count": 1,
   "id": "adcf7d72",
   "metadata": {},
   "outputs": [],
   "source": [
    "# from twitter_scraper import get_tweets\n",
    "import nest_asyncio\n",
    "nest_asyncio.apply()\n",
    "import twint"
   ]
  },
  {
   "cell_type": "code",
   "execution_count": null,
   "id": "21c89fe2",
   "metadata": {},
   "outputs": [],
   "source": [
    "# for tweet in get_tweets('twitter', pages=1):\n",
    "#     print(tweet['text'])"
   ]
  },
  {
   "cell_type": "code",
   "execution_count": null,
   "id": "cc8a90c3",
   "metadata": {},
   "outputs": [],
   "source": [
    "c = twint.Config()\n",
    "\n",
    "c.Username = \"noneprivacy\"\n",
    "c.Custom[\"tweet\"] = [\"id\"]\n",
    "c.Custom[\"user\"] = [\"bio\"]\n",
    "c.Limit = 10\n",
    "c.Store_csv = True\n",
    "c.Output = \"none\"\n",
    "\n",
    "twint.run.Search(c)"
   ]
  },
  {
   "cell_type": "code",
   "execution_count": 2,
   "id": "b0a610fd",
   "metadata": {},
   "outputs": [
    {
     "name": "stdout",
     "output_type": "stream",
     "text": [
      "1524820279041658881 2022-05-12 13:34:18 -0500 <ASt0cks> @DereckCoatney You mean like $LUNA? That’s what’s likely going to happen\n",
      "1524820274469904386 2022-05-12 13:34:17 -0500 <MPeweytl> @kyloxthesniper @stablekwon @terra_money Well, for $LUNA probably not, but $ust? It was meant to be secure and Do Kwon was so sure about security etc boasting about it. Now we know it was far from secure, wouldn't be surprised if collaterals were partially stolen and Do Kwon is on his way to new quiet life far away.\n",
      "1524820271613546497 2022-05-12 13:34:17 -0500 <dimmy_elie> @CryptoSniperBSC $LUNA\n",
      "1524820270447468545 2022-05-12 13:34:16 -0500 <borekci_hande> For your: ß ' T' C Required:Love Twitter Profit:2-10x Note: Terra $luna  Country:All #terra #ビットコイン  Yoshi Derksen steijn Ανδρεα Παπανδρεου Anwar Neko Ricardo Horta בית ספר Suécia Bund 문대인형 Al Jazeera Jan van Halst Martim Neto 탐라탐라 드림주가 드림캐  https://t.co/avNyJNYgA3\n",
      "1524820267234648064 2022-05-12 13:34:16 -0500 <BeliveinCrypto> Holly $Luna at 0.28 gamble .\n",
      "1524820265007316992 2022-05-12 13:34:15 -0500 <ALEXHEALS8> $LUNA.  '\" **Don't miss the next move in a few hours&gt;  https://t.co/DjOYrtDzgB\n",
      "1524820260020490240 2022-05-12 13:34:14 -0500 <0xinterstellar_> $LUNA #LFG\n",
      "1524820255595429891 2022-05-12 13:34:13 -0500 <mburaktepe> @HASOsyalmedya 41 dolara 1 milyon dolarlık $luna aldım reis #luna $ust\n",
      "1524820237828374531 2022-05-12 13:34:09 -0500 <NemanjaNenadi1> anyone wants 1k $luna ?\n",
      "1524820237367005187 2022-05-12 13:34:09 -0500 <CharlesPare_> $LUNA stop playing us and go back to $100 please  #Terra #Cryptocrash\n",
      "1524820232967274496 2022-05-12 13:34:07 -0500 <wallace_btc> Just a thought.. if the $luna dev team doesn't quit.. the software and Terra brandvalue has significant value in it.   Like to gamble?\n",
      "1524820229116657674 2022-05-12 13:34:07 -0500 <LilChainlink> You panic sold every asset last year but didn’t panic sell your $LUNA bag and watched it bleed to $0.01 anon ur doing this all wrong now ur family is mad at you\n",
      "1524820220753367041 2022-05-12 13:34:05 -0500 <Joshyysmartt> STOP SUCIDE AND AGGRESSION PLEASE!!!🙏🙏🙏   WAGMI again and again.   $LUNA $UST ❤️\n",
      "1524820218417229828 2022-05-12 13:34:04 -0500 <JustMeNL1> If $LUNA went down 100%…. it might be a good time to buy some, so I considered…  Aaah what the hec 😅 just bought some. Go go Luna 😃💪\n",
      "1524820217855107077 2022-05-12 13:34:04 -0500 <borekci_hande> For your: ß ' T' C Required:Love Twitter Profit:2-10x Note: Terra $luna  Country:All #terra #ビットコイン  MEPs Former SNP MP נחש צפע γιοβανοβιτς Schulen Licht Leeds Forskningsrådet Welzijn Loch Huberdeau Barnaby Paco Bram Mr Rudd Lyrical Joe Yttrandefrihet  https://t.co/eW3puzXFY3\n",
      "1524820206207619078 2022-05-12 13:34:01 -0500 <ChiozziSilvio> Retailers are helping $LUNA with micro buying? 🤔\n",
      "1524820202487173121 2022-05-12 13:34:00 -0500 <momeed77306085> $LUNA is there any possibility that they rapidly increased supply to prevent people from sell while they \"fix\" the problem, and after that burn it all and return luna to some reasonable value? Otherwise what's the point of increasing supply to a dead project?! @terra_money\n",
      "1524820201614745602 2022-05-12 13:34:00 -0500 <AsingbaSamuel> This guy was just a total 🤡 and an id*ot  @stablekwon 😑  WTF is so entertaining? Is $LUNA entertaining @terra_money? #LUNA   Look for ways to make this shit work, talk to your billionaire friends and stop burning $UST and minting more $LUNA  Use another model or something 😑💔\n",
      "1524820200205467649 2022-05-12 13:34:00 -0500 <salento1211> @DeItaone @elonmusk you know that it's enough one your word to help $UST, $LUNA and millions of persons that are suffering for this unfair situation. Please do something 🙏\n",
      "1524820198070575105 2022-05-12 13:33:59 -0500 <borekci_hande> For your: ß ' T' C Required:Love Twitter Profit:2-10x Note: Terra $luna  Country:All #terra #ビットコイン  Top Gun Money #MECFS μενδωνη Portugal trump-like Feddal Unikanie Ferrera DPOY 갓금별님 Giannis Tuesta Lino Mansur ダークネスピーチ Zimmer Cuti #FamillesNombreuses  https://t.co/c6FHrrKflI\n"
     ]
    }
   ],
   "source": [
    "c = twint.Config()\n",
    "#c.Username = \"JFLenhard\"\n",
    "c.Search = \"$Luna\"\n",
    "c.Limit = 10\n",
    "\n",
    "# Run\n",
    "tweets=twint.run.Search(c)"
   ]
  },
  {
   "cell_type": "code",
   "execution_count": null,
   "id": "24e9f21a",
   "metadata": {},
   "outputs": [],
   "source": [
    "c = twint.Config()\n",
    "c.Limit = 20\n",
    "c.Username = 'JFLenhard'\n",
    "c.Pandas = True\n",
    "\n",
    "twint.run.Search(c)\n",
    "\n",
    "Tweets_df = twint.storage.panda.Tweets_df"
   ]
  },
  {
   "cell_type": "code",
   "execution_count": null,
   "id": "0fc1b7f5",
   "metadata": {},
   "outputs": [],
   "source": [
    "Tweets_df.head()"
   ]
  },
  {
   "cell_type": "code",
   "execution_count": 6,
   "id": "d6cc8747",
   "metadata": {},
   "outputs": [
    {
     "name": "stderr",
     "output_type": "stream",
     "text": [
      "CRITICAL:root:twint.run:Twint:Feed:noData'globalObjects'\n",
      "sleeping for 1.0 secs\n",
      "CRITICAL:root:twint.run:Twint:Feed:noData'globalObjects'\n",
      "sleeping for 1.0 secs\n",
      "CRITICAL:root:twint.run:Twint:Feed:noData'globalObjects'\n",
      "sleeping for 1.0 secs\n",
      "CRITICAL:root:twint.run:Twint:Feed:noData'globalObjects'\n",
      "sleeping for 8.0 secs\n",
      "CRITICAL:root:twint.run:Twint:Feed:noData'globalObjects'\n",
      "sleeping for 27.0 secs\n",
      "CRITICAL:root:twint.run:Twint:Feed:noData'globalObjects'\n",
      "sleeping for 64.0 secs\n",
      "CRITICAL:root:twint.run:Twint:Feed:noData'globalObjects'\n",
      "sleeping for 125.0 secs\n",
      "CRITICAL:root:twint.run:Twint:Feed:noData'globalObjects'\n",
      "sleeping for 216.0 secs\n",
      "CRITICAL:root:twint.run:Twint:Feed:noData'globalObjects'\n",
      "sleeping for 343.0 secs\n",
      "CRITICAL:root:twint.run:Twint:Feed:noData'globalObjects'\n",
      "sleeping for 512.0 secs\n",
      "CRITICAL:root:twint.run:Twint:Feed:noData'globalObjects'\n",
      "sleeping for 729.0 secs\n",
      "CRITICAL:root:twint.run:Twint:Feed:noData'globalObjects'\n",
      "CRITICAL:root:twint.run:Twint:Feed:Tweets_known_error:'globalObjects'\n"
     ]
    },
    {
     "name": "stdout",
     "output_type": "stream",
     "text": [
      "[+] Finished: Successfully collected 425610 Tweets.\n"
     ]
    },
    {
     "name": "stderr",
     "output_type": "stream",
     "text": [
      "'globalObjects' [x] run.Feed[!] if you get this error but you know for sure that more tweets exist, please open an issue and we will investigate it!"
     ]
    }
   ],
   "source": [
    "coins = ['$Luna']\n",
    "since_date = '2022-05-10 00:00:00'\n",
    "outfile = coins[0] + '-' + since_date + '.csv'\n",
    "c = twint.Config()\n",
    "c.Search = coins #search keyword\n",
    "c.Since = since_date\n",
    "c.Store_csv = True\n",
    "c.Output = \"./\" + outfile\n",
    "c.Hide_output = True\n",
    "c.Count = True\n",
    "c.Stats = True\n",
    "c.Resume = 'resume.txt'\n",
    "twint.run.Search(c)"
   ]
  },
  {
   "cell_type": "code",
   "execution_count": null,
   "id": "6d49ec3b",
   "metadata": {},
   "outputs": [],
   "source": [
    "def scrape_by_coin(keywords, since, outfile):\n",
    "    unique_cities=set(all_cities) #To get unique cities of country\n",
    "    cities = sorted(unique_cities) #Sort & convert datatype to list\n",
    "    for city in cities:\n",
    "        print(city)\n",
    "        c = twint.Config()\n",
    "        c.Search = keywords #search keyword\n",
    "        c.Since = since\n",
    "        c.Store_csv = True\n",
    "        c.Output = \"./\" + outfile\n",
    "        c.Near = city\n",
    "        c.Hide_output = True\n",
    "        c.Count = True\n",
    "        c.Stats = True\n",
    "        c.Resume = 'resume.txt'\n",
    "        twint.run.Search(c)\n",
    "scrape_by_city('', '2022-05-10 00:00:00', 'Pakistan_Tweets_Dataset.csv')"
   ]
  }
 ],
 "metadata": {
  "kernelspec": {
   "display_name": "Python 3 (ipykernel)",
   "language": "python",
   "name": "python3"
  },
  "language_info": {
   "codemirror_mode": {
    "name": "ipython",
    "version": 3
   },
   "file_extension": ".py",
   "mimetype": "text/x-python",
   "name": "python",
   "nbconvert_exporter": "python",
   "pygments_lexer": "ipython3",
   "version": "3.8.13"
  }
 },
 "nbformat": 4,
 "nbformat_minor": 5
}
