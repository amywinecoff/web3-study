{
 "cells": [
  {
   "cell_type": "code",
   "execution_count": 21,
   "metadata": {},
   "outputs": [],
   "source": [
    "from bs4 import BeautifulSoup\n",
    "from urllib.request import Request, urlopen\n",
    "import requests\n",
    "\n",
    "import pandas as pd\n",
    "import os\n",
    "import regex as re\n",
    "import string\n",
    "import numpy as np\n",
    "import collections\n",
    "\n",
    "import contractions\n",
    "import spacy\n",
    "#from spacy.tokenizer import Tokenizer\n",
    "import en_core_web_sm\n",
    "import nltk\n",
    "#from nltk.stem import WordNetLemmatizer\n",
    "from nltk import bigrams, trigrams\n",
    "#from sklearn.base import TransformerMixin, BaseEstimator\n",
    "#import sys\n",
    "\n",
    "#I know this is silly, but whatever. People love it\n",
    "from wordcloud import WordCloud"
   ]
  },
  {
   "cell_type": "code",
   "execution_count": 2,
   "metadata": {},
   "outputs": [],
   "source": [
    "#https://hackernoon.com/scraping-amazon-product-information-with-python-and-beautifulsoup-yn4s3tgr\n",
    "#https://martechwithme.com/schedule-python-scripts-windows-mac/\n",
    "#https://www.dataquest.io/blog/web-scraping-python-using-beautiful-soup/\n",
    "#headers = {'User-Agent': 'Mozilla/5.0 (Windows NT 10.0; Win64; x64) AppleWebKit/537.36 (KHTML, like Gecko) Chrome/58.0.3029.110 Safari/537.3'}"
   ]
  },
  {
   "cell_type": "code",
   "execution_count": 3,
   "metadata": {},
   "outputs": [],
   "source": [
    "def get_paragraph_text(url, hdr):\n",
    "    \n",
    "    try:\n",
    "        \n",
    "        req = Request(url,headers=hdr)\n",
    "        page = urlopen(req)\n",
    "    \n",
    "    except:\n",
    "        \n",
    "        print(\"http failed, trying https:\")\n",
    "        \n",
    "        try:\n",
    "            url = url.replace('http:', 'https:')\n",
    "            req = Request(url,headers=hdr)\n",
    "            page = urlopen(req)\n",
    "        \n",
    "        except Exception as e:\n",
    "            print(\"substitution of https also failed. Error is {}\".format(e))\n",
    "            \n",
    "    else:\n",
    "   \n",
    "        soup = BeautifulSoup(page, 'html.parser')\n",
    "\n",
    "        p=soup.find_all('p')\n",
    "        text = ' '.join(t.get_text() for t in p)\n",
    "\n",
    "        return text\n",
    "    "
   ]
  },
  {
   "cell_type": "code",
   "execution_count": 4,
   "metadata": {},
   "outputs": [],
   "source": [
    "\n",
    "ah_url = 'https://a16z.com/crypto/'\n",
    "#hdr = {'User-Agent': 'Mozilla/5.0'}\n",
    "#hdr = {'User-Agent': 'Mozilla/5.0 (Macintosh; Intel Mac OS X 10.15; rv:97.0) Gecko/20100101 Firefox/97.0'}\n",
    "       #(Windows NT 10.0; Win64; x64) AppleWebKit/537.36 (KHTML, like Gecko) Chrome/58.0.3029.110 Safari/537.3'}\n",
    "    \n",
    "    \n",
    "hdr = {'User-Agent': 'Mozilla/5.0 (X11; Linux x86_64) AppleWebKit/537.11 (KHTML, like Gecko) Chrome/23.0.1271.64 Safari/537.11',\n",
    "       'Accept': 'text/html,application/xhtml+xml,application/xml;q=0.9,*/*;q=0.8',\n",
    "       'Accept-Charset': 'ISO-8859-1,utf-8;q=0.7,*;q=0.3',\n",
    "       'Accept-Encoding': 'none',\n",
    "       'Accept-Language': 'en-US,en;q=0.8',\n",
    "       'Connection': 'keep-alive'}\n",
    "\n",
    "# hdr = {'User-Agent':'Mozilla/5.0',\n",
    "#         'Accept': 'text/html,application/xhtml+xml,application/xml;q=0.9,image/webp,*/*;q=0.8',\n",
    "#         'Accept-Charset': 'ISO-8859-1,utf-8;q=0.7,*;q=0.3',\n",
    "#         'Accept-Encoding': 'gzip, deflate, sdch',\n",
    "#         'Accept-Language': 'en-US,en;q=0.8',\n",
    "#         'Connection': 'keep-alive'}\n",
    "\n",
    "req = Request(ah_url,headers=hdr)\n",
    "page = urlopen(req)\n",
    "soup = BeautifulSoup(page, 'html.parser')\n",
    "#print(soup.prettify())"
   ]
  },
  {
   "cell_type": "code",
   "execution_count": 5,
   "metadata": {},
   "outputs": [
    {
     "name": "stdout",
     "output_type": "stream",
     "text": [
      "a new site for understanding the future, how tech shapes it, and how we build it. historically, new models of computing have tended to emerge every 10–15 years: mainframes in the 60s, pcs in the late 70s, the internet in the early 90s, and smartphones in the late 2000s. each computing model enabled new classes of applications that built on the unique strengths of the platform. for example, smartphones were the first truly personal computers with built-in sensors like gps and high-resolution cameras. applications like instagram, snapchat, and uber/lyft took advantage of these unique capabilities and are now used by billions of people. blockchain computers were first proposed in 2008 by satoshi nakamoto in the bitcoin whitepaper. those original ideas have since been dramatically expanded by developers and researchers around the world. blockchain computers are new types of computers where the unique capability is trust between users, developers, and the platform itself. this trust emerges from the mathematical and game-theoretic properties of the system, without depending on the trustworthiness of individual network participants.  although the bitcoin whitepaper is now more than 10 years old, we believe we are still early in the crypto movement. crypto is purely a software movement and doesn’t depend on a hardware buildout, in contrast to, say, the internet, which required laying cables and building cell towers. second, the space is developing extremely rapidly, partly because the code, data, and knowledge is largely open source, and partly because of the increasing inflow of talent. learn more >> see a16z's crypto startup school videos for lectures and presentations from leading experts finally, we are optimistic because we are deep believers in the power of software. software is simply the encoding of human thought, and as such has an almost unbounded design space. we find ourselves consistently surprised and excited by the wide variety of creative crypto ideas we encounter. for those of us who have been involved in software for a long time, it feels like the early days of the internet, web 2.0, or smartphones all over again. the a16z crypto funds a16z crypto has more than $3b under management across three funds, investing in crypto companies and protocols. our funds are designed to include the best features of traditional venture capital, updated to the modern crypto world: in just over a decade of existence, crypto has gone through several waves. with each new wave, crypto extends to new categories, and more visionary entrepreneurs enter the space. if you’re one of them, we’d love to hear from you. click here for more articles and resources from a16z about crypto.   \n",
      "\t\t\tto see the full team, click here.\t\t \n",
      "\t\t\t\tto see the full library of crypto-related content, click here.\t\t\t any investments or portfolio companies mentioned, referred to, or described on this page are not representative of all investments in vehicles managed by a16z and there can be no assurance that the investments will be profitable or that other investments made in the future will have similar characteristics or results. exits include current and former a16z portfolio companies which have been acquired as well as companies which have undergone an initial public offering or direct public offering of shares. certain publicly traded companies on this list may still be held in andreessen horowitz funds. a list of investments made by funds managed by a16z is available here: https://a16z.com/investments/. excluded from this list are investments for which the issuer has not provided permission for a16z to disclose publicly as well as unannounced investments in publicly traded digital assets. further, the list of investments is updated monthly and as such may not reflect most recent a16z investments. past results of andreessen horowitz’s investments, pooled investment vehicles, or investment strategies are not necessarily indicative of future results. \n",
      "\t\t            be the first on the list for practical advice for building crypto companies.                 check your inbox for a welcome note.\n"
     ]
    }
   ],
   "source": [
    "#get text from the main AH crypto landing site\n",
    "main_site_text = get_paragraph_text(ah_url, hdr).lower()\n",
    "print(main_site_text)"
   ]
  },
  {
   "cell_type": "code",
   "execution_count": 6,
   "metadata": {},
   "outputs": [
    {
     "name": "stdout",
     "output_type": "stream",
     "text": [
      "['https://a16z.com/2022/03/09/sleep-minting-nfts/', 'https://a16z.com/2022/03/03/investing-in-lido/', 'https://future.a16z.com/go-to-market-in-web3/', 'https://a16z.com/2022/01/07/how-to-build-a-better-internet-10-principles-for-world-leaders-shaping-the-future-of-web3/', 'https://a16z.com/2022/01/06/investing-in-goldfinch/', 'https://future.a16z.com/podcasts/crypto-at-congress-watershed-moment-for-regulation-and-web3/', 'https://a16z.com/2021/12/17/prediction-for-the-new-year-a-web3-midterm/', 'https://a16z.com/2021/12/06/investing-in-mysten-labs/']\n",
      " a new site for understanding the future, how tech shapes it, and how we build it. as an nft collector, you should care about on-chain provenance. the most authentic provenance for an nft is when it is initially minted directly from a creator’s wallet or a smart contract that the creator owns. however, with a few clever smart contract illusions, someone could manipulate nft provenance using a technique known as sleep minting. sleep minting is when a scammer mints an nft directly to a famous creator’s wallet with permission to reclaim or pull the nft back out of the creator’s wallet. this creates the appearance that (1) a creator authentically minted an nft to themselves; and then (2) sent that nft to a scammer. based on “on-chain” provenance, the scammer can claim they own an nft minted by a famous creator and sell it for a higher value. how does this work technically? first, it is essential to understand how a smart contract stores nft provenance and ownership. anybody can query an nft smart contract to determine who the current owner of an nft is using the ownerof(tokenid) function from the erc-721 standard. you could even query for an nft owner at a specific block number by varying the eth_call rpc method parameters. however, the simplest way to see changes in ownership is to look at erc-721 transfer event logs. my a16z crypto colleague daren matsuoka wrote a great twitter thread about event logs and how they work. a transfer event log is a message sent to the outside world by a smart contract containing details about an nft transfer (who the nft is transferring from, who the nft is transferring to, and the transferred token id). transfer event logs provide an efficient way to check an nft’s provenance.  the deception of sleep minting comes from the fact that you can emit any piece of data in an event log. one would expect that if you send a transaction to transfer an nft, then your address should be in the event log as the “from” field. however, that is not the case when a scammer reclaims a sleep-minted nft from a famous creator. a scammer could artificially place the famous creator’s address in a transfer event’s “from” field. in more detail, here is how sleep minting works: i would also recommend reading this great walkthrough of a real sleep minting attack. thanks to forta, i built an agent that helps detect potential nft sleep minting. forta created a network for real-time web3 threat detection! developers can build forta agents (or threat-detection bots) to alert any suspicious activity on the blockchain. you can see a live monitor for my agent here! the agent checks to see if the address that sent a transaction to transfer an nft differs from the “from” address emitted in a transfer event log. if they are different, there is a possibility that the nft in question was sleep minted. subscribing to nft sleep minting alerts may help prevent you from collecting a fraudulent nft. if you ever see an agent alert referring to a specific nft contract address on the forta explorer agent page, you may want to think twice before purchasing an nft from that contract. \n",
      "\t\t\t\t\t\tsign up to be the first to get it.                     check your inbox for a welcome note. a new site for understanding the future, how tech shapes it, and how we build it. ethereum’s upcoming transition from proof of work (pow) to proof of stake (pos) has the potential for cascading effects across the crypto landscape. instead of using computational resources to secure the network, anyone will be able to stake their eth and operate block-producing validators, drastically reducing energy consumption. ethereum’s transaction fees and inflationary-driven rewards will be distributed to more participants in the network, broadening access to economic opportunities within ethereum’s ecosystem. nonetheless, staking eth has significant barriers today. perhaps most notably, there is a 32-eth minimum required to operate a node. this alone prevents a significant number of network users from running their own validator, and there is no native method for delegating one’s stake to circumvent these minimum capital requirements. moreover, staking to the beacon chain today is a one-way transaction – effectively locking up eth until the transition from pow to pos – resulting in a high opportunity cost of capital given the abundance of yield-generating alternatives that exist in defi. because of these challenges, centralized exchanges have been best-positioned to offer staking services due to efficiencies of scale. companies like binance, kraken, and coinbase can easily pool their users’ assets (eliminating the minimum capital requirements), stake it on their behalf (eliminating the operational burden), and issue a liquid market for this staked asset (unlocking liquidity and allowing users to swap back from staked eth to eth). these services are valuable for their users, creating a big opportunity for a decentralized alternative. that is why we are excited to invest in lido, an effective, decentralized staking platform. it offers one of the easiest ways to stake eth and other pos assets today, while striving for decentralization through the dao’s governance. lido democratizes staking. the lido community’s unwavering commitment to decentralization really stood out to us. they recognize that for their approach to succeed, they will need to create a fully-trustless staking pool while also embracing alternative solutions.  finally, lido solves the competitive incentives between staking and seeking yield in defi. by issuing an ethereum-native liquid token, lido allows you to use staked eth as collateral within defi in the same way you can use eth currently. we actively contribute to the networks and communities in our portfolio, so in addition to our investment in lido, we staked a portion of a16z crypto’s eth holdings on the beacon chain. staking with lido removes many of the logistical complexities that institutional investors have faced. we look forward to supporting the lido community on its long journey ahead. there will be competitive incentives even after the pos transition between securing the ethereum network by staking and alternatively seeking higher returns from participating in defi. we will contribute, as both a staker and governance participant, to help ensure a fair, transparent, and credible staking ecosystem. we want a world where a diverse set of centralized staking services, decentralized staking pools, and individual validators all play a role in securing ethereum. we are excited to be working with lido as we collectively build towards this future. *** the views expressed here are those of the individual ah capital management, l.l.c. (“a16z”) personnel quoted and are not the views of a16z or its affiliates. certain information contained in here has been obtained from third-party sources, including from portfolio companies of funds managed by a16z. while taken from sources believed to be reliable, a16z has not independently verified such information and makes no representations about the enduring accuracy of the information or its appropriateness for a given situation. in addition, this content may include third-party advertisements; a16z has not reviewed such advertisements and does not endorse any advertising content contained therein. this content is provided for informational purposes only, and should not be relied upon as legal, business, investment, or tax advice. you should consult your own advisers as to those matters. references to any securities or digital assets are for illustrative purposes only, and do not constitute an investment recommendation or offer to provide investment advisory services. furthermore, this content is not directed at nor intended for use by any investors or prospective investors, and may not under any circumstances be relied upon when making a decision to invest in any fund managed by a16z. (an offering to invest in an a16z fund will be made only by the private placement memorandum, subscription agreement, and other relevant documentation of any such fund and should be read in their entirety.) any investments or portfolio companies mentioned, referred to, or described are not representative of all investments in vehicles managed by a16z, and there can be no assurance that the investments will be profitable or that other investments made in the future will have similar characteristics or results. a list of investments made by funds managed by andreessen horowitz (excluding investments for which the issuer has not provided permission for a16z to disclose publicly as well as unannounced investments in publicly traded digital assets) is available at https://a16z.com/investments/. \n",
      "\t\t\t\t\t\tsign up to be the first to get it.                     check your inbox for a welcome note. the very best of future articles, podcasts, reports and more. check your inbox for a welcome note. every company faces some version of the “cold start problem”: how do you get started from nothing? how do you acquire customers? how do you create network effects — where your product or service becomes more valuable to its users as more people use it — that create incentives for even more customers to sign up?  in short, how do you “go to market” and convince potential customers to spend their money, time, and attention on your product or service?  the response by most organizations in web2 — the internet era defined by large centralized products/services like amazon, ebay, facebook, and twitter, in which the vast majority of value accrues to the platform itself rather than to the users — is to invest significantly in sales and marketing teams as part of a traditional go-to-market (gtm) strategy that focuses on generating leads and acquiring and retaining customers. but in recent years, a whole new model of organization-building has emerged. rather than being controlled by corporations — with centralized leadership making all decisions about the product or service, even when using consumers’ data and free, user-generated content — this new model leverages decentralized technologies and brings users into the role of owners through the digital primitive known as tokens.  this new model, known as web3, changes the entire idea of gtm for these new kinds of companies. while some traditional customer acquisition frameworks are still relevant, the introduction of tokens and novel organizational structures such as decentralized autonomous organizations (daos) requires a variety of go-to-market approaches. since web3 is still new to so many, yet there is tremendous building in the space, in this article i share some new frameworks for thinking about gtm in this context, as well as where different types of organizations may exist in the ecosystem. I will also offer some tips and tactics for builders looking to create their own web3 gtm strategies as the space continues to evolve. the concept of the customer acquisition funnel is core to go-to-market, and is very familiar to most businesses: going from awareness and lead generation at the top of the funnel to converting and retaining customers at the bottom of the funnel. traditional web2 go-to-market therefore attacks the cold-start problem through this very linear lens of customer acquisition, encompassing areas such as pricing, marketing, partnerships, sales channel mapping, and sales force optimization. success metrics include time to close a lead, site click-through rate, and revenue per customer, among others.  web3 changes the whole approach to bootstrapping new networks, since tokens offer an alternative to the traditional approach to the cold-start problem. rather than spending funds on traditional marketing to entice and acquire potential customers, core developer teams can use tokens to bring in early users, who can then be rewarded for their early contributions when network effects were not yet obvious or started. not only are those early users evangelists who bring more people into the network (who would like to similarly be rewarded for their contributions), but this essentially makes early users in web3 more powerful than the traditional business development or salespeople in web2.  for example, lending protocol compound [full disclosure: we are investors in this and some of the other organizations discussed in this piece] used tokens to incentivize early lenders and borrowers by providing extra rewards in the form of comp tokens for participating, or “bootstrapping liquidity,” with a liquidity mining program. any users of the protocol, whether a borrower or lender, received comp tokens. after the program launched in 2020, total value locked (tvl) in compound jumped from ~$100m to ~$600m. it is worth noting that while token incentivization attracts users, it alone is not enough to make them “sticky”; more on this later. while traditional companies do incentivize employees through equity, they rarely financially incentivize customers in a long-term way (other than through acquisition discounts or referral bonuses). to summarize: in web2, the primary gtm stakeholder is the customer, typically acquired via sales and marketing efforts. in web3, an organization’s gtm stakeholders include not just their customers/users, but also their developers, investors, and partners. many web3 companies therefore find community roles to be more critical than sales and marketing roles. for web3 organizations, gtm strategies depend on where an organization fits in the below matrix, according to its organizational structure (centralized vs. decentralized) and economic incentives (no token vs. token): go-to-market differs in each of the quadrants, and can span everything from traditional web2-style strategies to emerging and experimental strategies. here, I will focus on the upper right quadrant (decentralized team with token) and contrast it with the lower left quadrant (centralized team with no token) to illustrate the difference between web3 and web2 gtm approaches. first, let us look at the upper right quadrant. this includes organizations, networks, and protocols with unique web3 operating models, which in turn require novel go-to-market strategies. organizations in this quadrant follow a decentralized model (although they usually start with a core development team or operational staff) and use token economics to attract new members, reward contributors, and align incentives among participants. (for a deeper discussion of web3 business models and the seeming paradox of capturing value, check out this talk from a16z crypto startup school.) the fundamental difference between the web3 organizations in this quadrant and those using a more traditional gtm model involves the key question: what is the product? whereas web2 companies and those in the lower-left quadrant largely must start with a product that will attract customers (“come for the tools, stay for the network”), web3 companies approach go-to-market through the dual lenses of purpose and community.  having a product and a solid technical foundation is still important, but it does not have to come first.  what these organizations do need is a clear purpose that defines the reason they exist. what is the problem that they uniquely are trying to solve? this also means more than just raising money based on a white paper and founding team. it means having a strong community — not just being “community-led” or “community-first,” but also being community-owned — blurring the distinction between owner, shareholder, and user. what allows for long-term success in web3 is clear purpose, having an engaged and high-quality community, and matching the right organizational governance to that purpose and community. now let us go deeper into the go-to-market motions in the two major categories of web3 organizations in the upper right quadrant: (1) decentralized applications; and (2) layer 1 blockchains, layer 2 scaling solutions, and other protocols. “decentralized applications” covers use cases such as decentralized finance (defi), non-fungible tokens (nfts), social networks, and gaming. decentralized finance (defi) daos one major category of decentralized applications are decentralized finance (defi) applications, such as decentralized exchanges (e.g., uniswap or dydx) or stablecoins (e.g., makerdao’s dai). while they might have similar go-to-market motions as a standard, non-decentralized application, value accrues differently due to the organizational structures and token economics.  many defi projects follow a path where the protocol is first developed by a centralized development team. following the launch of its protocol, the team often seeks to decentralize the protocol in order to increase its security and to distribute management of its operation to a decentralized group of token holders. this decentralization is typically accomplished through the simultaneous issuance of a governance token; the launch of a decentralized governance protocol (typically a decentralized autonomous organization, or dao); and the granting of control over the protocol to the dao.  this decentralization process can involve many different structures and entity forms. for instance, many daos do not have any legal entity affiliated with them and operate solely in the digital world, while others use multi-signature (“multisig”) wallets that act at the direction of the dao. in certain cases, nonprofit foundations are established to oversee future development of the protocol at the direction of the dao. in nearly all cases, the original developer team continues to operate, in order to act as one of many contributors to the ecosystem created by the protocol as well as to develop supplemental or ancillary products and services. (this white paper contains more details on legal frameworks for daos, from taxation and entity formation to operational issues and considerations.) here are two popular defi examples: so what does go-to-market look like here? take the example of dai, the algorithmic stablecoin issued and governed by makerdao. one goal for most algorithmic stablecoin issuers such as makerdao is to generate more usage of their stablecoin in the financial ecosystem. the go-to-market motion is therefore to have it: 1) listed on cryptocurrency exchanges for retail and institutional trading; 2) integrated into wallets and applications; and 3) accepted as payment for goods or services. today, there are over 400 dai markets, it is integrated into hundreds of projects, and it is accepted as a form of payment through major commerce solutions like coinbase commerce.  how did they do it? makerdao initially accomplished this through a more traditional business development team that was driving many early partnerships and integrations. however, as it increased its decentralization, the business development function became the responsibility of the growth core unit, a sub-community of maker token holders often referred to as a subdao. additionally, since makerdao is decentralized and its protocol’s operation is trustless and permissionless, anyone can generate or buy dai using the protocol. and because dai’s code is open source, developers can integrate it into their apps in a self-service manner. as time went on and the protocol became more self-service — with better developer documentation and more integration playbooks — other projects were able to build off that at scale.  go-to-market metrics for defi daos: with new go-to-market strategies for web3 come new ways of measuring success. for defi apps, the canonical success metric is the aforementioned total value locked (tvl). it represents all the assets using a protocol or network for things like trading, staking, and lending.  however, tvl is not an ideal metric to measure long-term organizational health and success. although new defi protocols can copy open-source code, offer high yields, and attract significant financial inflows and tvl, this is not necessarily sticky — traders often leave as soon as the next project pops up.   the more critical metrics to track, therefore, are areas such as number of unique token holders; community engagement frequency and sentiment; and developer activity. additionally, since protocols are composable — able to be programmed to interact with and build on each other — another key metric here is integrations. number of and type of integrations track how and where the protocol is used in other applications, such as wallets, exchanges, and products.    social, culture, and art daos for social, culture, and art daos, go-to-market means building a community with a specific purpose — sometimes even starting as a text chat between friends — and growing it organically by finding other people who believe in that same purpose. but is not this “just a group chat” or just like traditional crowdfunding on kickstarter, for instance? no, because while organizers of traditional web2 crowdfunding projects may also have a clear purpose, they have to be much more clear about the means of achieving that purpose top-down. the project originators typically outline a detailed breakdown of how funds raised will be used, a clear product roadmap, and a comprehensive timeline. in the web3 model, the purpose is paramount, but the methods are often figured out later — including how funds will be used, the product roadmap, and the timeline.  for instance, with constitutiondao, the purpose was buying a copy of the you.s. constitution; for krause house, the purpose is buying an nba team and pioneering fan governance of a team; for linksdao, it is creating a virtual country club with a community of golf enthusiasts; and for pleasrdao, it is for collecting, displaying, and creatively adding/sharing back to the community nfts to represent culturally significant ideas and movements.  in the case of constitutiondao, which raised $47m from a community of strangers that came together around this purpose, the entire process came together in a matter of weeks, and started with a clear purpose and raising money for that specific purpose only. constitutiondao did not have much else — no clear roadmap, execution plan, or even a token at that point (it was created after the bid was unsuccessful). individuals who contributed financially were so aligned with the purpose, and motivated by the community, that they simply wanted to contribute and spread the word, filling twitter with emoji scrolls that became a meme.   friends with benefits is a token-gated social dao that started as a token-gated discord server for web3 creatives. in addition to a minimum buy-in of $fwb tokens, which represents membership in the dao, potential members must apply to fwb through a written application. the community grew, connected in various discord channels, ran irl events, and eventually realized that one of the products they could build was a token-gated events app. fwb gives creatives a real stake in the community, while the dao framework enables large-scale coordination of this decentralized social group to do things like allocate budget and accomplish projects ranging from publishing content to producing events. go-to-market metrics for social daos: one of the key measures of health of a dao is quality engagement of the community, which can be measured through the primary communications and governance platforms it uses. for example, a dao can track channel activity on discord; member activation and retention; attendance on community calls, governance participation (who is voting on what, and how often); and actual work being done (number of paid contributors).  other metrics might be net-new relationships built, or measuring trust developed among dao community members. although some tools and frameworks do exist here, social dao metrics are still an emerging space, so we will see more tools emerge and evolve here as the space evolves. game daos today, most web3 games, whether play-to-earn, play-to-mint, move-to-earn, or another type, closely resemble popular web2 counterparts — but with two key distinctions:  in web3 gaming, go-to-market strategy is built through platform distribution, player referrals, and partnerships with guilds. guilds such as yield guild games (ygg) allow new players to start playing a game by loaning them game assets that they might otherwise not be able to afford. guilds choose what games to support by looking at three factors: the quality of the game; the strength of the community; and the robustness and fairness of the game economy. game, community, and economic health must all be maintained in tandem.  while developers of blockchain-based games might have a lower ownership percentage and/or take rate, by incentivizing players as owners the developers are helping grow the overall economy for all.  but unlike in web2, purpose and community lead. for instance, loot, a game that started with content first before moving to gameplay, is an example of purpose and community, rather than product, driving gtm. loot is a collection of nfts, each known as a loot bag, which have a unique combination of adventure gear items (examples include a dragonskin belt, silk gloves of fury, and an amulet of enlightenment). loot essentially provides a prompt — or building block primitive — upon which games, projects, and other worlds can be built. the loot community has created everything from analytics tools to derivative art, music collections, realms, quests, and more games, inspired by their loot bags.  the key idea here is that loot grew not due to an existing product that users flocked to, but because of the idea and lore it represented — an open, composable network that welcomed creativity and incentivized users through tokens. the community makes the product — it is not the network making the product in hopes it will attract a community. as such, a key metric here would be the number of derivatives, for instance, which could be considered even more valuable here than traditional metrics would. in web3, layer 1 refers to the underlying blockchain. avalanche, celo, ethereum, and solana are all examples of layer 1 blockchains. these blockchains are all open source, so anyone can build on top of them, replicate or alter them, and integrate with them. growth of these blockchains comes from having more applications built on top of them.  layer 2 refers to any technology that operates on top of an existing layer 1 to help solve scalability challenges with layer 1 networks. one type of layer 2 solution is a rollup. layer 2 rollups do just that — they “roll up” transactions off chain and then post the data back onto the layer 1 network via a bridge. there are two primary categories of layer 2 rollups. the first, optimistic rollups, “optimistically” assume the transaction is honest and not fraudulent via a fraud proof. the second, zk rollups, use “zero knowledge” proofs to determine the same. the majority of these layer 2 solutions are currently being developed for ethereum and do not yet have their own token, but we will discuss them here as their go-to-market success metrics are similar to those of the other networks in this category.  additionally, protocols can be built on top of other l1s or l2s, with the uniswap protocol, for example, supporting ethereum (l1), optimism (l2), and polygon (l2). growth of layer 1 blockchains, layer 2 scaling solutions, and these other protocols can come from forks, which are when a network is replicated and then altered. for example, ethereum, a layer 1 blockchain, was forked by celo. optimism, a layer 2 scaling solution, was forked by nahmii and metis. and uniswap was forked to create sushiswap. while this may initially seem negative, the number of forks that a network has can actually be a measure of success — it shows that others want to copy it.   these examples and mindsets all focus on the upper right quadrant, decentralized networks with tokens — broadly speaking, the current most advanced examples of web3. however, depending on the type of organization, there is still a fair amount of blending of web2 gtm strategies and emerging web3 models. builders should understand the range of approaches as they begin to develop their go-to-market strategy, so let us now take a look at a hybrid model that blends web2 gtm with web3 gtm strategies. many of the companies in this lower left quadrant (centralized team with no token) provide entry points and interfaces for users to access web3 infrastructure and protocols.  in this quadrant, there is significant overlap in go-to-market strategies between web2 and web3 — especially in the areas of saas and marketplaces.  some companies in this quadrant follow the traditional software-as-a-service (saas) business model, for example alchemy, which provides nodes-as-a-service. these companies offer infrastructure-on-demand through various tiers of subscription fees, determined by considerations such as amount of storage needed, whether nodes are dedicated or shared, and monthly request volume.  the saas business model generally requires a traditional web2 go-to-market motion and incentives. customer acquisition is through a combination of product-led and channel-led strategies:  product-led user acquisition is focused on getting users to try the product itself. for example, one of alchemy’s products is supernode, an ethereum api targeted at any organization that is building on ethereum but that does not want to manage its own infrastructure. in this case, customers would try supernode via a free tier or freemium model, and those customers would recommend the product to other potential customers.  in contrast, channel-led user acquisition is focused on segmenting out different customer types (for example, public-sector vs. private-sector customers), and having sales teams aligned to those customers. in this case, a company might have a sales team focused solely on public-sector customers such as government and education, and would deeply understand the needs of that type of customer.  I am providing an overview in this article to help explain the difference between web2 and web3 go-to-market strategies, but it is important to note that developer-focused outreach and developer relations — including developer documentation, events, and education — is also very important here. other companies in this quadrant lean on the relatively familiar-to-consumer models of marketplaces and exchanges, such as peer-to-peer horizontal nft marketplace opensea and cryptocurrency exchange coinbase. these businesses generate revenue — the “take” — based on a transaction fee (typically a percentage of the transaction), which is similar to the business models of classic web2 marketplaces such as ebay and amazon.  for these types of companies, revenue growth comes from growing the number of listings, the average dollar value of each listing, and the number of users of the platform — all of which lead to increased transaction volume, while benefiting users in terms of variety, marketplace liquidity, and more.  a key go-to-market motion here is increasing channel distribution by partnering with other platforms to show a selection of items. this is similar to the amazon affiliate program, in which bloggers can link to their favorite items, and any purchases made through those links give the blogger a commission. but a key difference from web2 is that web3 structures allow for royalty distributions back to the creator in addition to the affiliate fee. for example, opensea offers the traditional affiliate sales channel through their white label program, in which purchases made through a referral link give a percentage of the sale to the affiliate, but it also allows for royalties, in which creators can continue to earn a percentage of any secondary sales. (this web3 feature is uniquely made possible by crypto because smart contracts can encode the percentage arrangement up front, blockchain tracks provenance, and more.) since creators now have an opportunity to continue to monetize their work through the secondary markets — value they previously could not see, let alone capture, in web2 systems — they are incentivized to continue to promote the marketplace. creators become evangelists as well.   now that I have shared an overview of key mindsets and example use cases, let us take a look at specific go-to-market tactics often seen in web3 organizations. these are the core ingredients, not a complete playbook, but can still help builders entering and exploring the space understand the tactics and options.  an airdrop is when a project distributes tokens to users to reward certain behavior that the project wants to incentivize, including testing the network or protocol. these can be distributed to all existing addresses on a given blockchain network, or targeted (such as to specific key influencers); often, they are used to solve the cold start problem — to bootstrap early adoption, award or incent early users, and more.   in 2020, uniswap airdropped 400 uni to anyone who had used the platform. in september 2021, dydx airdropped dydx to users. more recently, ens conducted an airdrop to anyone with an ens domain (a decentralized .eth domain); the airdrop was conducted in november 2021, but anyone who owned an ens domain before october 31, 2021, was/is eligible (until may 2022) to claim $ens tokens, which provide holders with governance rights with respect to the ens protocol.  in the non-fungible token space, airdrops for nft projects are also growing in popularity to help with giving more people access and other reasons. one recent notable airdrop was from the bored ape yacht club, a collection of 10,000 unique nfts; on august 28, 2021, bayc created the corresponding mutant ape yacht club. each of the bayc token holders received a mutant serum, allowing them to mint 10,000 “mutant” apes, and additionally a new 10,000 mutant apes became available for new entrants. because there were different types of serums, serums could only be used once, and since a bored ape could not use multiple serums of the same tier, serums added a new scarcity model.  the rationale behind the creation of the mayc was to “reward our ape holders with an entirely new nft” — a “mutant” version of their ape — while also allowing newcomers into the bayc ecosystem at a lower tier of membership. this maintains accessibility to the broader community, while not diluting the exclusivity of the original set or having those original owners feel like their contributions were downgraded. (another way of addressing accessibility is with nft fractionalization, where an nft has multiple owners.) the mayc floor price, or lowest listed price for a mayc, is consistently lower than the bayc floor price, but owners essentially have the same benefits.  these airdrops were done retroactively to reward nft holders or network and protocol users (as was the ens airdrop), but airdrops can also be used as a proactive gtm motion to generate awareness for a specific project and to encourage people to check it out. since information is public on the blockchain, a new project can airdrop to, for example, all the wallets using a specific marketplace, or all the wallets holding a specific token. in any case, projects should clearly articulate their overall token distribution, breakdown, and plans before conducting the airdrop. there are many examples of airdrops being used for nefarious purposes and of airdrops gone wrong. in addition, airdrops of tokens can be deemed to be securities offerings in the united states, so projects should consult counsel prior to engaging in any such activity. developer grants are grants made from a protocol’s treasury to individuals or teams who are contributing in some way to improving the protocol. this can serve as an effective gtm mechanism for daos, since developer activity is such an integral part of a protocol’s success. examples of projects and protocols with developer grants include celo, chainlink, compound, ethereum, and uniswap.  but grants can be given for everything from protocol development to bug bounties, code audits, and other activities beyond coding. compound even has a type of grant related to business development and integrations, funding any integrations that grow the usage of compound. an example of this is their funding of a grant that integrated compound with polkadot.   viral images with text overlays are another gtm tactic for web3 organizations. given the complexity and breadth of the cryptocurrency ecosystem and the short attention spans of social media users, memes allow information to be rapidly conveyed. memes can also signal belonging, community, goodwill, and more in a highly information-dense way.    the nft project pudgy penguins, a collection of 8,888 penguins, started due to its meme-ability. the primary drop of the collection sold out in 20 minutes, and the collection was featured in major media outlets, which in turn helps mainstream such projects. the social display and community element of “pfp” (profile picture) collections — in web3 this is coming about as nfts displayed as an owner’s profile picture on social media — also allow for this virality. twitter recently rolled out a feature allowing users to prove their ownership of an nft via hexagonal-shaped profile pictures linking to opensea’s api. owners with large social media followings generate awareness of a project when they change their profile picture to one from that project, and project owners typically follow all other owners of the same project. these moves can in turn also beget other memes, as in the case of crypto covens and the “web2 me vs. web3 me” meme where users came to display their witches alongside their actual faces, signaling identity, belonging, and more. *** so what does this all mean for web3 founders? the biggest mindset shift is moving from planning to something more like gardening.  in web2 companies, founders not only set a top-down vision but are responsible for growing a team and planning and executing against that vision. in web3, founders take on more the role of a gardener, helping cultivate and nurture potentially successful products but also setting up the space for it all to happen. while web3 founders still set the purpose of the organization, and its initial governance structure, the governance structure itself might quickly lead to new roles for them. instead of optimizing for headcount growth or revenue and profitability, founders might be optimizing for protocol usage and quality of community. in addition, following any decentralization, founders must adapt to environments in which no hierarchical power structures exist, and where they are one of many actors championing the success of a given project. as such, prior to decentralizing, founders should ensure that they are setting up their project for success in such an environment. i witnessed some of this firsthand when i was chief of staff to tony hsieh, former ceo of zappos.com, an e-commerce company now owned by amazon. the company experimented with more decentralized (compared to only top-down) governance structures beginning in 2014, including the self-organized management system known as “holacracy.” holacracy involved a hierarchy of work rather than of people, and had mixed results. but hsieh offered a useful metaphor when comparing his role as being the cultivator of a greenhouse of plants (in the holacracy model), rather than being the best plant. he had said he needed to be the “architect of the greenhouse” — setting the right conditions to enable all the other plants to flourish and thrive.  today, alex zhang, mayor of friends with benefits (fwb), the social dao with a fungible token, echoes the sentiment, describing that his job “is not to set a top-down vision” but to facilitate the creation of “frameworks, permits, and regulations for community members” to approve and to build on top of. where a web2 leader would be focused on updating the product roadmap and driving toward new product launches, zhang considers himself more of a gardener rather than a top-down builder. his role includes watching the fwb “neighborhood” (in this case, discord channels) and curating it by retiring channels with little traction and helping support and grow channels that have momentum. by creating a framework for these channels — and playbooks for channel success (such as a mix of activity, clear leadership, and governance structures) — zhang becomes more of an educator and communicator. in the case of founders of nft projects, their role is primarily as originators and temporary stewards of intellectual property (ip). yuga labs, the creators of bored ape yacht club, wrote, “we see ourselves as temporary stewards of ip that is in the process of becoming more and more decentralized. our ambition is for this to be a community-owned brand, with tentacles in world-class gaming, events, and streetwear.” owning an nft — whether it is an image, a video or sound clip, or another form — conveys to the owner all the rights associated with the nft. as the nft is bought and sold, that ownership is transferred — and as ecosystems grow around the nft, those benefits go to the nft owner, not just the founding team of the nft project.  nft ownership can also be about community-driven licensing and community-driven content (unlike traditional ip franchises). an example here is jenkins the valet, an nft avatar from the bayc collection (specifically, ape #1798) that signed with creative artists agency (caa) for representation across various forms of media. jenkins was created by tally labs, the group that owns ape #1798. tally labs decided to imbue the ape with its own brand and backstory, and turned the notion around of an nft’s statistical rarity being the main determinant of its price and success. they then created a way for others to participate in creating content around jenkins through a “writer’s room” nft, where, for example, community members were able to vote on the genre of the first book.   so much more is possible here; we have yet to see what more is possible as more people embrace crypto and decentralized technologies and web3 models. traditional web2 gtm frameworks are a useful reference, and offer some helpful playbooks — but they are just a few of the many frameworks available for web3 organizations. the key difference to remember is that the goals, growth, and success metrics of web2 and web3 are often not the same. builders should start with a clear purpose, grow a community around that purpose, and match their growth strategies and community incentives — and with them, the go-to-market motions — accordingly. we will see a variety of models emerge, and look forward to observing and sharing more here.  thanks to justin paine, porter smith, and miles jennings for their contributions to this article. \n",
      "maggie hsu is a partner at andreessen horowitz leading go-to-market for the crypto portfolio. she previously led go-to-market for amazon managed blockchain at amazon web services.                                                         technology, innovation, and the future, as told by those building it. check your inbox for a welcome note. a new site for understanding the future, how tech shapes it, and how we build it. the year 2021 marked a watershed moment for web3. significant numbers of policymakers began to grasp the potential of web3 to democratize access to opportunity, provide individuals with more control of their data, and build a better internet. in the year ahead, many of these leaders will work to create legal and regulatory architecture to sustain the broad adoption of web3 platforms. these developments are encouraging, but it is still unclear which countries and regions will emerge as winners in the global competition to leverage web3 to power more dynamic institutions and economies. we have heard from officials on every populated continent who are looking to build responsible web3 policy frameworks to benefit the communities they serve. they face the challenge of delivering on the extraordinary promise of web3 while mitigating the real risks that accompany the deployment of a new technology. in response, we are releasing a list of 10 principles for world leaders shaping the future of web3. these recommendations have emerged from discussions with stakeholders in the public sector, private sector, and civil society who are on the front lines of innovation and policy. specifically, our agenda suggests that governments should: establish a clear vision to foster decentralized digital infrastructure embrace multi-stakeholder approaches to governance and regulation create targeted, risk-calibrated oversight regimes for different web3 activities foster innovation with composability, open source code, and the power of open communities broaden access to the economic benefits of the innovation economy unlock the potential of daos deploy web3 to further sustainability goals embrace the role of well-regulated stablecoins in financial inclusion and innovation collaborate with other nations to harmonize standards and regulatory frameworks provide clear, fair tax rules for the reporting of digital assets, and leverage technical solutions for tax compliance governments that embrace these principles will be well positioned to realize the benefits of web3 and better equipped to address unanticipated challenges on the path to population-scale adoption. *** the views expressed here are those of the individual ah capital management, l.l.c. (“a16z”) personnel quoted and are not the views of a16z or its affiliates. certain information contained in here has been obtained from third-party sources, including from portfolio companies of funds managed by a16z. while taken from sources believed to be reliable, a16z has not independently verified such information and makes no representations about the enduring accuracy of the information or its appropriateness for a given situation. in addition, this content may include third-party advertisements; a16z has not reviewed such advertisements and does not endorse any advertising content contained therein. this content is provided for informational purposes only, and should not be relied upon as legal, business, investment, or tax advice. you should consult your own advisers as to those matters. references to any securities or digital assets are for illustrative purposes only, and do not constitute an investment recommendation or offer to provide investment advisory services. furthermore, this content is not directed at nor intended for use by any investors or prospective investors, and may not under any circumstances be relied upon when making a decision to invest in any fund managed by a16z. (an offering to invest in an a16z fund will be made only by the private placement memorandum, subscription agreement, and other relevant documentation of any such fund and should be read in their entirety.) any investments or portfolio companies mentioned, referred to, or described are not representative of all investments in vehicles managed by a16z, and there can be no assurance that the investments will be profitable or that other investments made in the future will have similar characteristics or results. a list of investments made by funds managed by andreessen horowitz (excluding investments for which the issuer has not provided permission for a16z to disclose publicly as well as unannounced investments in publicly traded digital assets) is available at https://a16z.com/investments/. charts and graphs provided within are for informational purposes solely and should not be relied upon when making any investment decision. past performance is not indicative of future results. the content speaks only as of the date indicated. any projections, estimates, forecasts, targets, prospects, and/or opinions expressed in these materials are subject to change without notice and may differ or be contrary to opinions expressed by others. please see https://a16z.com/disclosures for additional important information. \n",
      "\t\t\t\t\t\tsign up to be the first to get it.                     check your inbox for a welcome note. a new site for understanding the future, how tech shapes it, and how we build it. since defi emerged several years ago, a broad range of web3 financial services have been created and widely adopted, but a crucial one was notably absent: undercollateralized lending. most web3 lending protocols only support overcollateralized loans, which lend against existing assets, because it is much easier to manage that risk at scale.  however, borrowers with collateral tend to be margin traders and crypto holders who do not want to sell their positions. nearly everyone else across the globe seeks to borrow money because they do not have what they need. what makes undercollateralized lending so difficult? it boils down to assessing the creditworthiness of a given borrower: in other words, determining whether they are likely to repay the loan. the result is that borrowers who need access to credit the most – namely, those who do not already have substantial assets to lend against – are unable to benefit from most defi lenders. this limitation has especially hindered the adoption of defi lending in emerging markets. enter goldfinch. goldfinch is a decentralized credit platform that broadens the pool of potential lenders beyond just banks. the protocol operates as an open marketplace for loans without collateral, and decentralizes the loan underwriting process. it also makes off-chain sources of yield available and composable on defi.  the protocol works by extending credit lines to lending businesses, which can then draw down stablecoins from the pool and deploy them on the ground in their local markets. in this way, the protocol provides the utility of crypto — specifically, its global access to capital — while leaving the actual loan origination and servicing to the businesses best equipped to handle it. investors can utilize goldfinch by depositing crypto into the pool to earn yield. as the lending businesses make their interest payments back to the protocol, they are immediately disbursed to all investors. in just a few months, goldfinch has shown there is a huge global need for access to capital, growing from $250,000 in outstanding loan volume to over $38m. the protocol is already serving over 200,000 borrowers in 18 countries around the world. the protocol-supplied capital is being used for a wide range of productive uses from motorcycle taxis in kenya, to small businesses in brazil, to eco-friendly cookstoves for low-income households in india, among others. by removing the need for crypto collateral and providing a means for passive yield, goldfinch is dramatically expanding lending to more potential borrowers and capital providers. we are thrilled to lead goldfinch’s series a, and excited to support the team in putting capital to work for the people who need it most. *** the views expressed here are those of the individual ah capital management, l.l.c. (“a16z”) personnel quoted and are not the views of a16z or its affiliates. certain information contained in here has been obtained from third-party sources, including from portfolio companies of funds managed by a16z. while taken from sources believed to be reliable, a16z has not independently verified such information and makes no representations about the enduring accuracy of the information or its appropriateness for a given situation. in addition, this content may include third-party advertisements; a16z has not reviewed such advertisements and does not endorse any advertising content contained therein. this content is provided for informational purposes only, and should not be relied upon as legal, business, investment, or tax advice. you should consult your own advisers as to those matters. references to any securities or digital assets are for illustrative purposes only, and do not constitute an investment recommendation or offer to provide investment advisory services. furthermore, this content is not directed at nor intended for use by any investors or prospective investors, and may not under any circumstances be relied upon when making a decision to invest in any fund managed by a16z. (an offering to invest in an a16z fund will be made only by the private placement memorandum, subscription agreement, and other relevant documentation of any such fund and should be read in their entirety.) any investments or portfolio companies mentioned, referred to, or described are not representative of all investments in vehicles managed by a16z, and there can be no assurance that the investments will be profitable or that other investments made in the future will have similar characteristics or results. a list of investments made by funds managed by andreessen horowitz (excluding investments for which the issuer has not provided permission for a16z to disclose publicly as well as unannounced investments in publicly traded digital assets) is available at https://a16z.com/investments/. charts and graphs provided within are for informational purposes solely and should not be relied upon when making any investment decision. past performance is not indicative of future results. the content speaks only as of the date indicated. any projections, estimates, forecasts, targets, prospects, and/or opinions expressed in these materials are subject to change without notice and may differ or be contrary to opinions expressed by others. please see https://a16z.com/disclosures for additional important information. \n",
      "\t\t\t\t\t\tsign up to be the first to get it.                     check your inbox for a welcome note. the very best of future articles, podcasts, reports and more. check your inbox for a welcome note. welcome to 16 minutes, our podcast where we discuss tech trends in the news and their impact on the long arc of innovation. today’s topic is crypto regulation, and specifically, two recent federal government hearings in the news that were focused on crypto and therefore the related trend of web3. in contrast to the model of web2 — typified by very broadly used but also very centralized platforms run by corporations — web3 refers to the idea of a new internet enabled by crypto that is owned by builders and users. the first hearing that took place was at the house committee on financial services, featuring six crypto company ceos and resulting in a five-hour session that prompted headlines like “congress gets a crash course on cryptocurrency.” then, the you.s. senate’s banking, housing, and urban affairs committee held its own hearing, this time focused on stablecoins, which are privately issued cryptocurrencies that are pegged to a stable asset such as the you.s. dollar, and are used in decentralized financial services. we have covered crypto regulatory issues on 16 minutes before with a16z experts, including an episode with former federal prosecutor  katie haun and former new york stock exchange regulatory chief anthony albanese. that discussion, which you can find in this feed under episode #50, was about a proposal by the treasury department’s financial crimes enforcement arm that included provisions for digital asset reporting. (as a reminder, none of the following should be taken as investment advice, please see a16z.com/disclosures for more important information.) all of these hearings are also connected to the broader question of innovation, and keeping the you.s. competitive on a global stage. so with that context, our guest today is a16z global head of policy tomicah tillemann, who before joining a16z served as senior advisor to two secretaries of state. he reports on the hearings and their significance, and gives a quick pulse-check on where we are with crypto regulation right now. the views expressed here are those of the individual ah capital management, l.l.c. (“a16z”) personnel quoted and are not the views of a16z or its affiliates. certain information contained in here has been obtained from third-party sources, including from portfolio companies of funds managed by a16z. while taken from sources believed to be reliable, a16z has not independently verified such information and makes no representations about the enduring accuracy of the information or its appropriateness for a given situation. this content is provided for informational purposes only, and should not be relied upon as legal, business, investment, or tax advice. you should consult your own advisers as to those matters. references to any securities or digital assets are for illustrative purposes only, and do not constitute an investment recommendation or offer to provide investment advisory services. furthermore, this content is not directed at nor intended for use by any investors or prospective investors, and may not under any circumstances be relied upon when making a decision to invest in any fund managed by a16z. (an offering to invest in an a16z fund will be made only by the private placement memorandum, subscription agreement, and other relevant documentation of any such fund and should be read in their entirety.) any investments or portfolio companies mentioned, referred to, or described are not representative of all investments in vehicles managed by a16z, and there can be no assurance that the investments will be profitable or that other investments made in the future will have similar characteristics or results. a list of investments made by funds managed by andreessen horowitz (excluding investments for which the issuer has not provided permission for a16z to disclose publicly as well as unannounced investments in publicly traded digital assets) is available at https://a16z.com/investments/. charts and graphs provided within are for informational purposes solely and should not be relied upon when making any investment decision. past performance is not indicative of future results. the content speaks only as of the date indicated. any projections, estimates, forecasts, targets, prospects, and/or opinions expressed in these materials are subject to change without notice and may differ or be contrary to opinions expressed by others. please see  https://a16z.com/disclosures for additional important information. a new site for understanding the future, how tech shapes it, and how we build it. we recently commissioned a public opinion survey* to gauge how significant the web3 constituency will be as we head into the you.s. midterm elections next year. the findings were mind-blowing for the a16z web3 team, and we wanted to share the results. we all know 2021 has been an extraordinary year for web3. daos rallied to make ownership over important cultural artifacts more democratized. nfts broke through into the collective consciousness, with everyone from established artists and auction houses to major game studios and well-known musicians leaning in; more importantly, nfts demonstrated new models for young artists to get their start and retain an ownership stake in their work. play-to-earn games offered new possibilities for digital economies. and distributed networks helped preserve free speech and tackle the digital divide. nowhere did the conversation change more than among policymakers. the bipartisan infrastructure bill — the largest piece of public works legislation since the new deal — was funded in part by new tax reporting obligations for digital assets. while the legislation is imperfect, the message is clear: congress believes web3 is here to stay. in 2021, the 117th congress introduced bill after bill around digital assets and decentralized technology, while the leaders of the most important federal agencies spent months understanding the ramifications of stablecoins for the integrity of the you.s. financial system and the global economy. along the way, web3 has emerged as a major political force.  one in five americans now owns digital assets, and 79% of voters would be more likely to support a candidate that supports expanding web3. the vast majority of americans agree that digital assets are the future. the web3 constituency as a whole is younger, more diverse, and leans left. below are a few significant insights from the poll. these numbers reflect the fact that web3 is a source of optimism and excitement about the future among voters. american voters want policymakers to lean in and play an active role in supporting the next generation of the internet. we could not agree more. web3 presents both parties with an important opportunity heading into midterm elections. voters care about the economy — and that includes web3. this is especially true for young voters and black/hispanic voters.\n",
      " the benefits of web3 are clear and powerful to the vast majority of american voters. leaders on both sides of the aisle need to ensure their economic strategies include a role for web3. that is especially true for candidates trying to engage communities of color. percentage of voters agreeing with the following statements: 80%   voters do not want to see heavy-handed efforts to shut down or jeopardize the potential of web3.  crypto owners are increasingly diverse, well-researched, and forward-looking. this is not just a fad — it is also about having more control over your assets.\n",
      " * this survey, commissioned by andreessen horowitz and conducted by morning consult, interviewed 2,191 registered voters in the united states online from december 1-3, 2021. the margin of error of a truly random sample is +/- 2 percentage points; a larger margin of error may apply within subgroups. *** the views expressed here are those of the individual ah capital management, l.l.c. (“a16z”) personnel quoted and are not the views of a16z or its affiliates. certain information contained in here has been obtained from third-party sources, including from portfolio companies of funds managed by a16z. while taken from sources believed to be reliable, a16z has not independently verified such information and makes no representations about the enduring accuracy of the information or its appropriateness for a given situation. this content is provided for informational purposes only, and should not be relied upon as legal, business, investment, or tax advice. you should consult your own advisers as to those matters. references to any securities or digital assets are for illustrative purposes only, and do not constitute an investment recommendation or offer to provide investment advisory services. furthermore, this content is not directed at nor intended for use by any investors or prospective investors, and may not under any circumstances be relied upon when making a decision to invest in any fund managed by a16z. (an offering to invest in an a16z fund will be made only by the private placement memorandum, subscription agreement, and other relevant documentation of any such fund and should be read in their entirety.) any investments or portfolio companies mentioned, referred to, or described are not representative of all investments in vehicles managed by a16z, and there can be no assurance that the investments will be profitable or that other investments made in the future will have similar characteristics or results. a list of investments made by funds managed by andreessen horowitz (excluding investments for which the issuer has not provided permission for a16z to disclose publicly as well as unannounced investments in publicly traded digital assets) is available at https://a16z.com/investments/. charts and graphs provided within are for informational purposes solely and should not be relied upon when making any investment decision. past performance is not indicative of future results. the content speaks only as of the date indicated. any projections, estimates, forecasts, targets, prospects, and/or opinions expressed in these materials are subject to change without notice and may differ or be contrary to opinions expressed by others. please see https://a16z.com/disclosures for additional important information. \n",
      "\t\t\t\t\t\tsign up to be the first to get it.                     check your inbox for a welcome note. a new site for understanding the future, how tech shapes it, and how we build it. since the early years of the crypto movement, software engineers have been primarily focused on building and enhancing base-layer infrastructure that can support applications. this year we have seen an explosion of layer 2 and layer 3 services, marking an inflection point in web3 that is shifting from the infrastructure phase to the application phase. that does not mean web3 infrastructure has been “solved,” however ––far from it.  on layer 1 blockchains, scaling transactions and speed to meet growing demand has been a consistent challenge. the rapid growth in applications, which is the hallmark of this industry’s success, will only exacerbate the need for dynamic and reliable infrastructure. in addition, programmability is one of the core benefits of blockchains, but smart contract languages may have unintended loopholes that hinder the interoperability and security of services and users’ assets such as nfts. fully unlocking the potential of web3 will require solving for scalability and programmability, which is why we are excited to invest in mysten labs.  mysten is building foundational infrastructure for web3 to tackle these challenges and accelerate development and adoption of decentralized services. there is significant demand for more efficient and safe smart contract developer tooling, and mysten has the technology and expertise to make major improvements across multiple chains.  allowing developers to focus on perfecting their user experience, without tackling the complexities of lower-level blockchain integrations, is key to enticing more web2 talent to start building web3 applications. it would be hard to dream up a more perfect team for this endeavour. the founding team has extensive experience in web3, programming languages, distributed systems, and cryptography. ceo evan cheng led novi research, meta’s crypto r&d division, where he worked with mysten’s other co-founders (sam blackshear, adeniyi abiodun, and george danezis) to develop the diem blockchain and move programming language, as well as enable breakthroughs in blockchain scalability, usability, and security.  their experience also spans industry-leading companies such as apple, microsoft, vmware, oracle, j.p. morgan; and crypto startups such as chainspace, vega, and nym. mysten’s current projects are taking two forms: partnerships with existing networks that integrate mysten technology, and open protocols based on mysten-designed components. narwhal, which targets scalability issues and can be integrated with any bft consensus protocol, is being developed for deployment on celo and sommelier. they are also building a next-generation nft platform with extremely high performance that enables a new class of programmable assets. it is designed to bring about true self-sovereignty and help people seamlessly move their assets across games and virtual worlds in the metaverse. as with all technology stacks, each improvement at the infrastructure level of web3 can have outsized positive impacts for the applications and services built on top of it. we cannot wait to see the breadth and depth of innovation that mysten’s infrastructure will enable. *** the views expressed here are those of the individual ah capital management, l.l.c. (“a16z”) personnel quoted and are not the views of a16z or its affiliates. certain information contained in here has been obtained from third-party sources, including from portfolio companies of funds managed by a16z. while taken from sources believed to be reliable, a16z has not independently verified such information and makes no representations about the enduring accuracy of the information or its appropriateness for a given situation. in addition, this content may include third-party advertisements; a16z has not reviewed such advertisements and does not endorse any advertising content contained therein. this content is provided for informational purposes only, and should not be relied upon as legal, business, investment, or tax advice. you should consult your own advisers as to those matters. references to any securities or digital assets are for illustrative purposes only, and do not constitute an investment recommendation or offer to provide investment advisory services. furthermore, this content is not directed at nor intended for use by any investors or prospective investors, and may not under any circumstances be relied upon when making a decision to invest in any fund managed by a16z. (an offering to invest in an a16z fund will be made only by the private placement memorandum, subscription agreement, and other relevant documentation of any such fund and should be read in their entirety.) any investments or portfolio companies mentioned, referred to, or described are not representative of all investments in vehicles managed by a16z, and there can be no assurance that the investments will be profitable or that other investments made in the future will have similar characteristics or results. a list of investments made by funds managed by andreessen horowitz (excluding investments for which the issuer has not provided permission for a16z to disclose publicly as well as unannounced investments in publicly traded digital assets) is available at https://a16z.com/investments/. charts and graphs provided within are for informational purposes solely and should not be relied upon when making any investment decision. past performance is not indicative of future results. the content speaks only as of the date indicated. any projections, estimates, forecasts, targets, prospects, and/or opinions expressed in these materials are subject to change without notice and may differ or be contrary to opinions expressed by others. please see https://a16z.com/disclosures for additional important information. \n",
      "\t\t\t\t\t\tsign up to be the first to get it.                     check your inbox for a welcome note.\n"
     ]
    }
   ],
   "source": [
    "#get urls for content posts\n",
    "content_sites = []\n",
    "content_text = ''\n",
    "for a in soup.find_all('a', class_=\"vertical-landing-post vertical-landing-post--no-image\", href=True):\n",
    "    content_sites.append(a['href'])\n",
    "    \n",
    "    content_text = content_text + ' ' + contractions.fix(get_paragraph_text(a['href'], hdr).lower())\n",
    "    \n",
    "    #content_text.append(get_paragraph_text(a['href'], hdr).lower())\n",
    "    \n",
    "    \n",
    "print(content_sites)\n",
    "print(content_text)"
   ]
  },
  {
   "cell_type": "code",
   "execution_count": 7,
   "metadata": {},
   "outputs": [
    {
     "name": "stdout",
     "output_type": "stream",
     "text": [
      "http failed, trying https:\n",
      "substitution of https also failed. Error is HTTP Error 403: Forbidden\n",
      "http failed, trying https:\n",
      "substitution of https also failed. Error is HTTP Error 403: Forbidden\n",
      "http failed, trying https:\n",
      "substitution of https also failed. Error is HTTP Error 308: Permanent Redirect\n",
      "http failed, trying https:\n"
     ]
    }
   ],
   "source": [
    "portfolio_divs = soup.find_all(\"div\", {\"class\": \"company company-type--crypto company--single-company\"})\n",
    "\n",
    "portfolio_websites = []\n",
    "portfolio_text = ''\n",
    "failed_websites = []\n",
    "\n",
    "for tag in portfolio_divs:\n",
    "    a_tags = tag.find_all(\"a\", href=True)\n",
    "    \n",
    "    url = a_tags[0]['href']\n",
    "\n",
    "    text = get_paragraph_text(url, hdr)\n",
    "    \n",
    "    if not isinstance(text, type(None)):\n",
    "        \n",
    "        #portfolio_text.append(get_paragraph_text(url, hdr).lower())\n",
    "        \n",
    "        portfolio_text = portfolio_text + ' ' + contractions.fix(get_paragraph_text(url, hdr).lower())\n",
    "        \n",
    "        portfolio_websites.append(url)\n",
    "        \n",
    "    else:\n",
    "        failed_websites.append(url)\n",
    "\n",
    "\n"
   ]
  },
  {
   "cell_type": "code",
   "execution_count": 8,
   "metadata": {},
   "outputs": [
    {
     "data": {
      "text/plain": [
       "['https://www.alchemy.com/',\n",
       " 'https://anchorage.com',\n",
       " 'https://coinswitch.co/',\n",
       " 'https://eco.com/',\n",
       " 'https://forta.org/',\n",
       " 'http://goldfinch.finance',\n",
       " 'https://irreverentlabs.com',\n",
       " 'http://www.manifold.co.nz',\n",
       " 'https://near.org/',\n",
       " 'https://opensea.io/',\n",
       " 'https://solana.com/',\n",
       " 'https://www.syndicateprotocol.org/',\n",
       " 'http://Talos.com',\n",
       " 'https://valoraapp.com/']"
      ]
     },
     "execution_count": 8,
     "metadata": {},
     "output_type": "execute_result"
    }
   ],
   "source": [
    "portfolio_websites"
   ]
  },
  {
   "cell_type": "code",
   "execution_count": 9,
   "metadata": {},
   "outputs": [
    {
     "data": {
      "text/plain": [
       "['http://aleo.org',\n",
       " 'http://www.bitski.com',\n",
       " 'https://element.fi',\n",
       " 'http://foundation.app']"
      ]
     },
     "execution_count": 9,
     "metadata": {},
     "output_type": "execute_result"
    }
   ],
   "source": [
    "failed_websites"
   ]
  },
  {
   "cell_type": "code",
   "execution_count": 10,
   "metadata": {},
   "outputs": [
    {
     "data": {
      "text/plain": [
       "\" one magic line of code supercharges your development with the world’s most powerful blockchain developer platform, relied upon by the majority of the world's top blockchain apps. alchemy supernode is the most widely used blockchain api for ethereum, polygon, arbitrum, optimism, flow and crypto.org. get all the functionality of a node, including json-rpc support, but with the supercharged reliability, data correctness and scalability needed to run world-class applications on the blockchain. alchemy build is a no-configuration in-house suite of developer tools to prototype, debug, and ship products faster. instantly search through millions of historical requests, view real-time transactions in the mempool, make json-rpc calls directly from the dashboard, and quickly scan recent requests and errors. alchemy monitor is a comprehensive suite of dashboards and alerts for app health, performance, and user behavior. instantly check on the health of all your apps in one place, gain user insights without compromising privacy, and get automated alerts whenever your app needs your attention. alchemy notify allows developers to send real-time push notifications to users for mined, delayed and dropped transactions, earned interest, burned tokens, and other critical events along the journey. includes powerful webhooks and 1-click integration. the leading companies in blockchain rely on alchemy to power their products in 99% of countries worldwide. alchemy is perfect for every project size. the most powerful free tier in blockchain ultimate scalability and enhanced methods volume pricing, support & slas alchemy combines the most powerful developer tools in blockchain with helpful resources, talented community, and legendary support. sign up for our biweekly dose of dev news and stats, plus in-depth interviews with the best projects in blockchain. sign up for our biweekly dose of dev news and stats, plus in-depth interviews with the best projects in blockchain. alchemy combines the most powerful developer tools in blockchain with helpful resources, talented community, and legendary support.  the most advanced digital asset platform, for secure crypto custody, trading, staking, governance, and more.     the most advanced digital asset platform, for secure crypto custody, trading, staking, governance, and more. from the outside, the digital asset space can appear fragmented and overcomplicated. getting exposure can seem like it requires being in many places at once.\\n anchorage changes that, giving institutions easy and efficient access to crypto custody, trading, financing, staking, and governance services, all from within the world's most advanced and proven security architecture.\\n anchorage custody offers a modern solution that is safer than cold storage. our platform eliminates human operations that expose assets to risk.\\n capture rewards with anchorage staking, and vote on issues that impact your holdings through anchorage governance.\\n with anchorage trading, access multiple venues through one onboarding. borrow crypto or usd against crypto collateral, or lend and earn returns on assets under custody with anchorage financing.\\n as the first federally-chartered digital asset bank in history, anchorage digital bank is a qualified custodian with fiduciary powers that can help sec-registered investment advisers meet their obligations under federal law.\\n for banks wishing to provide a comprehensive digital asset solution, the anchorage platform is the easiest and most secure option, regulated by the same agency and offering the same seamless experience clients have come to expect from traditional financial services.\\n anchorage will support all assets that meet our standards of quality and safety. \\ndo not see what you are looking for? we are always adding new assets. to learn more about our roadmap, please get in touch.\\n “anchorage has elegantly solved one of the hardest problems of digital assets, by building the ideal combination of modern security and usability.” —olaf carlson-wee,founder & ceo of polychain capital “we rely on anchorage to maximize our execution speed and fully unlock the value of our assets.” —kevin yedid-botton,principal of parafi capital “anchorage is the safest place to store crypto assets, bar none.” —avichal garg,managing partner of electric capital “anchorage is the most advanced crypto custody solution on the market, setting a new high bar for both security and user experience.” —ari paul,cio of blocktower capital “anchorage is led by the best team in the crypto custody business.” —naval ravikant,chairman of angellist “anchorage has built a best-in-class platform providing both custodial security and peace of mind while simultaneously providing the flexibility and speed that a quantitatively traded hedge fund like ours requires.” —jesse proudman,ceo and co-founder of strix leviathan “we believe anchorage is the safest place to hold digital assets, having modernized crypto custody beyond physical cold storage with advanced security engineering.” —p. bart stephens,co-founder & managing partner of blockchain capital “anchorage’s security model is the industry standard. coupled with a seamless user experience, it was the obvious choice.” —charlie noyes,principal of paradigm “anchorage is fundamentally changing the business of custody for financial assets.” —kevin warsh,former governor of you.s. federal reserve “anchorage has elegantly solved one of the hardest problems of digital assets, by building the ideal combination of modern security and usability.” —olaf carlson-wee,founder & ceo of polychain capital “we rely on anchorage to maximize our execution speed and fully unlock the value of our assets.” —kevin yedid-botton,principal of parafi capital contact us to speak with an expert. disclaimer: custody and settlement services are offered through anchorage digital bank national association, a national trust bank chartered by the office of the comptroller of the currency. digital asset trading services are provided by anchorage hold, llc. lending services are provided by anchorage lending ca, llc. anchorage is not engaged in the business of the offer, sale or trading of securities and is not registered with the sec. anchorage does not provide legal, tax, or investment advice. anchorage hold, anchorage lending, and anchorage digital bank are wholly-owned subsidiaries of anchor labs inc., a delaware corporation.\\xa0\\n holdings of cryptocurrencies and other digital assets are speculative and involve a substantial degree of risk, including the risk of complete loss. there can be no assurance that any cryptocurrency, token, coin, or other crypto asset will be viable, liquid, or solvent. no anchorage communication is intended to imply that any digital asset services are low-risk or risk-free. anchorage works hard to provide accurate information on this website, but cannot guarantee all content is correct, complete, or updated. digital assets held in custody are not guaranteed by anchorage and are not fdic-insured.\\n \\n © 2022 anchorage. all rights reserved.  check out eco explore ii, where we announced eco points are becoming an open rewards currency.\\xa0click here for the full recording › it is one simple balance that let us you spend, send, save and make money at the same time. join 180,000+ people ready for smart money. eco is backed by 150+ world-class investors, including:  because you earn 2.5% on your balance (and up to 5% when you refer friends). because every time you spend at your favorite merchants you get 5% back. with rewards that seem too good to be true (but actually are not). join 180,000+ people ready for smart money. for most people, seeing is believing: once they test out eco and confirm that the benefits we are offering are real, they become our champions and invite everyone they know to the app. but some people need to hear more first. if you are reading this, odds are you are one of these people. forta is the first decentralized community-based security platform to prevent or mitigate smart contract exploits as they occur. incubated by openzeppelin, the leader in blockchain security since 2015. develop code scripts to detect specific conditions or events. any developer can create generalized security tooling for defi, nfts, and daos. scan transactions and smart contract data on any l1, l2, or sidechain. run detector agent scripts and emit alerts when threats are detected. get real-time alerts on cybersecurity, financial, governance, and operational threats for your own or dependent protocols. take defensive action to prevent or minimize loss of funds. join the forta discord community to discuss the project, share ideas, and learn more about smart contract security. subscribe to the email list to receive project updates. early contributors will get a chance to earn rewards. subscribe to receive updates \\n        we are excited to announce the launch of the gfi token!\\n        read more \\n \\n          goldfinch is a decentralized credit protocol for crypto loans\\n          without collateral. this is the missing piece that finally unlocks\\n          crypto lending for most people in the world.\\n         \\n              goldfinch expands access to capital in emerging markets where\\n              crypto can truly empower financial inclusion.\\n             \\n              the protocol is already serving thousands of borrowers\\n              across india, mexico, nigeria, southeast asia, and more.\\n             \\n              high-quality borrowers provide expected 10-14% apy from\\n              real-world activity uncorrelated with crypto.\\n             \\n            liquidity providers supply capital to the senior pool. the\\n            protocol automatically allocates the senior pool to the senior\\n            tranches of borrower pools.\\n           \\n            borrowers propose pools (with terms like\\n            the interest rate) for the backers to assess\\n           \\n            backers supply capital to the junior tranches of borrower pools.\\n           \\n          we partner with highly reputable lending businesses\\n          with years of strong performance. here is just a few:\\n         \\n          we are building a decentralized credit platform\\n          that empowers financial inclusion.\\n         \\n          we believe there is vast untapped lending potential in the world.\\n          it is expensive to be a bank today, and this limits the kinds of\\n          lenders that can operate. but there are thousands if not millions\\n          who could lend with the right system. we are building a platform\\n          that empowers anyone to be a lender, not just banks.\\n         \\n          join our community and help us build the future of decentralized,\\n          open-access credit.\\n         we are reinventing how games are played, owned and watched by merging advanced machine learning, engrossing gameplay and blockchain technology. we are building hundred-year games, designed to grow across decades of breathtaking depth and fun. “irreverent labs' first game is so delightfully eccentric and simple to play, it is easy to overlook the technical achievement of shaping truly original nft characters with advanced machine learning...” arianna simpson “as entertainers, we recognize entertainment vision when we see it. this team—and the impact their games and technology could have on the world—excites all of us,” said alex pall of the chainsmokers' mantis vc fund. alex pall we are building a game that utilizes artificial intelligence to create a hilarious and engaging experience that will evolve with players for generations. our npcs will live and breathe digital lives as nfts on the blockchain, enabling private, decentralized ownership by players.mfc is your first opportunity to enjoy mech fighting as the proud owner and trainer of a one-of-a-kind, artifically intelligent mechabot. more details coming in january 2022 with the first 1000 invitations to our closed ecosystem coming soon after. sign up now for your chance to be among our first players and receive updates as the game reaches new stages of development. irreverent labs is bringing together a world class team with backgrounds in computer science, machine learning, arts, game development, storytelling and blockchain with one mission: creating games that will outlast any player and become worlds of their own. we believe in the power of player ownership and a play-to-earn economy to create the next stage in human play. low-risk, flexible and scalable workspace.view our plans hello@manifold.co.nz\\ninstagram | \\nfacebook \\xa0 our work environments are lively yet productive. we have taken great care in our space design - by balancing focused work areas, generous breakout areas, technology, lighting and lots of greenery we have successfully managed to create a space that feels well appointed, welcoming, productive and fun. manifold hosts a range of meetups and workshops run by our pals at startup taranaki and others. these events give you the chance to hear from guest speakers, develop new skills and network in authentic and novel ways. coworking is all about the connection! we do not know what it is but manifold continues to attract the most authentic, interesting, passionate and thoughtful people. our relationships go way beyond the workplace, our socials are becoming the stuff of legend and we guarantee you will grow your network and make rad friends at manifold. reviews from facebook and google 21 devon street westnew plymouth, 4310 sign up with to receive news and updates. we respect your privacy. thanks for joining.  make sure to check your inbox for a little “thank you offer” from us! through simple, secure, and scalable technology, near empowers millions to invent and explore new experiences. business, creativity, and community are being reimagined for a more sustainable and inclusive future.  certified carbon neutral   the latest updates from the foundation, protocol team, marketing, education, ecosystem funding, and more.  the creator economy requires robust infrastructure including a set of intuitive developer tools, and an engaged, decentralized community. near is eliminating the barriers to web 3 adoption. with high speeds, low fees, and progressive ux, near’s climate-neutral blockchain is ready for explosive growth. near runs in concert with ethereum, polkadot, cosmos, and more, allowing for the free flow of assets and communication between networks for the betterment of all. the best way to stake your claim in the nearverse is by creating an account (wallet). then, choose the first step in your journey. build decentralized apps on a developer-friendly platform that features low fees, high speeds, and infinite scalability. startup or grow up on a platform that sets you up for success. investors, partners, and users are waiting. when you find your purpose, you find your people. pick a wallet, create an account, and start contributing today. learn more about opensea learn more about opensea live genesis drop unlocking exclusive access in the iconic images ecosystem live isoteric by trashhand live first-ever amc’s the walking dead nft with exclusive access pass live historic collaboration with proceeds going to ukrainian relief funds live 100 portraits reconciling order and chaos live an arkiv contains 11 unique ai-powered items live vip passes grant players guaranteed early access to the game live genesis drop unlocking exclusive access in the iconic images ecosystem live isoteric by trashhand live first-ever amc’s the walking dead nft with exclusive access pass live historic collaboration with proceeds going to ukrainian relief funds live 100 portraits reconciling order and chaos live an arkiv contains 11 unique ai-powered items live vip passes grant players guaranteed early access to the game live genesis drop unlocking exclusive access in the iconic images ecosystem live isoteric by trashhand live first-ever amc’s the walking dead nft with exclusive access pass last 7 days set up your wallet once you have set up your wallet of choice, connect it to opensea by clicking the wallet icon in the top right corner. learn about the wallets we support. create your collection click my collections and set up your collection. add social links, a description, profile & banner images, and set a secondary sales fee. add your nfts upload your work (image, video, audio, or 3d art), add a title and description, and customize your nfts with properties, stats, and unlockable content. list them for sale choose between auctions, fixed-price listings, and declining-price listings. you choose how you want to sell your nfts, and we help you sell them! meet opensea the nft marketplace with everything for everyone fiat on-ramp and profile customization is coming soon. © 2018 - 2022 ozone networks, inc learn more about solana and see what makes it great. integrate once and never worry about scaling again. solana ensures composability between ecosystem projects by maintaining a single global state as the network scales. never deal with fragmented layer 2 systems or sharded chains. solana's scalability ensures transactions remain less than $0.01 for both developers and users. solana is all about speed, with 400 millisecond block times. and as hardware gets faster, so does the network. not only is solana ultra-fast and low cost, it is censorship resistant. meaning, the network will remain open for applications to run freely and transactions will never be stopped. there is something for everybody. follow along, chat on discord, or read up on what we are doing. help secure the network by running decentralized infrastructure. learn about operating a validator node. see the get started guide, videos, tutorials, sdks, reference implementations, and more.  © 2022 talos, inc. talos is removing the barriers to wide-scale crypto adoption by providing buy-side institutions and service providers with technology infrastructure that powers the full trade lifecycle. through our api or web-based gui, all members of the crypto ecosystem can efficiently and confidently interact with each other.\\n through our api or web-based gui, all members of the crypto ecosystem can efficiently and confidently interact with each other. our integrated platform supports the entirety of the trading process — price discovery, execution and settlement.\\n our integrated platform supports the entirety of the trading process — price discovery, execution and settlement. our leadership led the technology teams at some of the world’s most sophisticated asset managers and trading technology providers. this is why the biggest names in digital assets have placed their trust in us – both as our clients and investors. the company best suited to drive institutional adoption of digital assets is one that understands traditional capital markets deeply and is forward-thinking enough to fully grasp the promise of crypto. talos is that company. arianna simpson | investment partner, andreessen horowitz there is a growing need for trusted infrastructure to seamlessly connect the digital asset ecosystem. talos provides that critical market structure support and enables institutions to reliably interact within this exciting new asset class. peter sanborn | managing partner, paypal ventures talos' platform provides the same levels of stability, performance and security as the leading equities and fixed income trading systems, yet is extremely intuitive and easy to use. brian kelly | founder & ceo, bkcm talos is quietly playing a huge role in the institutional mainstreaming of cryptoassets by delivering a solution that brings new levels of efficiency, transparency and risk mitigation to the asset class. matt walsh | founding partner, castle island ventures the talos team is truly best-in-class — one of the best we have encountered in the blockchain space since we began investing in 2013. they are uniquely positioned to bridge the gap between the crypto and capital markets communities, and the product is quickly becoming essential for any serious institutional trader. nicholas chirls | partner, notation capital the talos team has built trading infrastructure for many of the world’s largest banks and asset managers, and they are now doing just that for the institutional investors getting more heavily involved in crypto. brett gibson | general partner, initialized capital digital assets are transforming the markets on an unprecedented scale. talos sits at the center of this revolution, with a unique opportunity to help bring extraordinary levels of efficiency, transparency and risk mitigation to billions of investors worldwide.\\n digital assets are transforming the markets on an unprecedented scale. talos sits at the center of this revolution, with a unique opportunity to help bring extraordinary levels of efficiency, transparency and risk mitigation to billions of investors worldwide. stay on top of the latest developments from talos and the broader digital asset community. easy to access, easy to understand, easy to grow. get your valora wallet and step into the future of crypto. guess what. valora is your single sign-on to dapps in the celo ecosystem. discover an entire world of possibilities right at your fingertips, where you can create and share content in new ways, collect nfts, explore decentralized finance (defi), and shape communities all through valora.  dive into web3 do not just hold your crypto, make it work for you. right now, we are giving you 25% annual rewards on your stablecoin balance. and no, that is not a typo. learn more. \\n start transacting with 6 billion other smartphone users around the world from your phone and on the go.  no more long wallet addresses and no more intermediaries. just you, your phone number, and a lot of crypto on an excitingly intuitive interface. transact in seconds — at a fraction of the cost of other crypto platforms. see for yourself. valora supports over 30 celo cryptocurrencies including celo's native token (celo) and stablecoins (cusd, ceur, and creal). now you can track, send, and receive all in one place — what could be better? no one, not even valora, can gain access to your account. just do not put your recovery phrase in your twitter bio. valora is built on celo, a carbon-negative blockchain that believes the world of crypto should include the whole world. maybe that is why celo is one of the fastest-growing blockchains. owning celo’s native token, celo, is the first step towards accessing opportunities across the blockchain, like defi and nfts. millions of people worldwide already own celo, and you can too with valora. download the valora app\\n connect your phone number\\n set up your recovery phrase\\n buy crypto\\n get rewards automatically\\n then send, spend, and grow your crypto with ease \""
      ]
     },
     "execution_count": 10,
     "metadata": {},
     "output_type": "execute_result"
    }
   ],
   "source": [
    "portfolio_text"
   ]
  },
  {
   "cell_type": "code",
   "execution_count": 11,
   "metadata": {},
   "outputs": [],
   "source": [
    "##If running for the first time\n",
    "#nltk.download('punkt')\n",
    "#nltk.download('stopwords')\n",
    "#nltk.download('wordnet')\n",
    "\n",
    "nlp = spacy.load(\"en_core_web_sm\", disable=['parser', 'ner'])\n",
    "\n",
    "# #fix some spacy lemma issues (e.g., \"datum\" and \"scientist\" not resulting in \"science\")\n",
    "# nlp.get_pipe('lemmatizer').lookups.get_table(\"lemma_exc\")[\"noun\"][\"data\"] = [\"data\"]\n",
    "# nlp.get_pipe('lemmatizer').lookups.get_table(\"lemma_exc\")[\"noun\"][\"scientist\"] = [\"science\"]\n",
    "# nlp.get_pipe('lemmatizer').lookups.get_table(\"lemma_exc\")[\"noun\"][\"artificial intelligence\"] = [\"ai\"]\n",
    "\n",
    "\n",
    "#change/include additional stop words\n",
    "customize_stop_words = {'not':False, \n",
    "                        '\\n\\n':True, \n",
    "                        '\\n\\n\\n':True}\n",
    "\n",
    "\n",
    "for w,val in customize_stop_words.items():\n",
    "    nlp.vocab[w].is_stop = val"
   ]
  },
  {
   "cell_type": "code",
   "execution_count": 12,
   "metadata": {},
   "outputs": [],
   "source": [
    "#https://www.kaggle.com/balatmak/text-preprocessing-steps-and-universal-pipeline\n",
    "\n",
    "class TextPreprocessor(object):\n",
    "    def __init__(self):\n",
    "        \"\"\"\n",
    "        TBD\n",
    "        \"\"\"\n",
    "\n",
    "    def preprocess_df(self, df):\n",
    "        return df.apply(self._preprocess_text)\n",
    "\n",
    "    def preprocess_text(self, text):\n",
    "        doc = nlp(text)\n",
    "        removed_punct = self._remove_punct(doc)\n",
    "        removed_stop_words = self._remove_stop_words(removed_punct)\n",
    "\n",
    "        return self._lemmatize(removed_stop_words)\n",
    "\n",
    "    def _remove_punct(self, doc):\n",
    "        return [t for t in doc if t.text not in string.punctuation]\n",
    "\n",
    "    def _remove_stop_words(self, doc):\n",
    "        return [t for t in doc if not t.is_stop]\n",
    "\n",
    "    def _lemmatize(self, doc):\n",
    "        \n",
    "        lemma_text = ' '.join([t.lemma_ for t in doc])\n",
    "        \n",
    "        return re.sub('\\s+',' ',lemma_text)\n",
    "        \n",
    "        "
   ]
  },
  {
   "cell_type": "code",
   "execution_count": 13,
   "metadata": {},
   "outputs": [],
   "source": [
    "#main_site_text = contractions.fix(main_site_text)\n",
    "\n",
    "#content_text = ' '.join(content_text)\n"
   ]
  },
  {
   "cell_type": "code",
   "execution_count": 23,
   "metadata": {},
   "outputs": [],
   "source": [
    "ah_text = main_site_text + ' ' + content_text\n",
    "ah_text = TextPreprocessor().preprocess_text(ah_text)\n",
    "\n",
    "portfolio_text = TextPreprocessor().preprocess_text(portfolio_text)"
   ]
  },
  {
   "cell_type": "code",
   "execution_count": 15,
   "metadata": {},
   "outputs": [],
   "source": [
    "# content_text = ' '.join(content_text)"
   ]
  },
  {
   "cell_type": "code",
   "execution_count": 18,
   "metadata": {},
   "outputs": [
    {
     "data": {
      "text/plain": [
       "[('not', 104),\n",
       " ('investment', 79),\n",
       " ('\"', 76),\n",
       " ('web3', 74),\n",
       " ('a16z', 68),\n",
       " ('—', 55),\n",
       " ('nft', 53),\n",
       " ('community', 44),\n",
       " ('protocol', 41),\n",
       " ('new', 40),\n",
       " ('fund', 40),\n",
       " ('token', 38),\n",
       " ('purpose', 38),\n",
       " ('company', 36),\n",
       " ('crypto', 35),\n",
       " ('provide', 35),\n",
       " ('build', 34),\n",
       " ('user', 34),\n",
       " ('market', 32),\n",
       " ('content', 31),\n",
       " ('asset', 31),\n",
       " ('manage', 29),\n",
       " ('future', 28),\n",
       " ('network', 28),\n",
       " ('service', 27),\n",
       " ('information', 27),\n",
       " ('project', 27),\n",
       " ('include', 26),\n",
       " ('web2', 25),\n",
       " ('digital', 24),\n",
       " ('decentralize', 24),\n",
       " ('product', 24),\n",
       " ('model', 23),\n",
       " ('example', 23),\n",
       " ('team', 23),\n",
       " ('make', 23),\n",
       " ('customer', 23),\n",
       " ('blockchain', 20),\n",
       " ('create', 20),\n",
       " ('business', 20),\n",
       " ('organization', 20),\n",
       " ('layer', 20),\n",
       " ('developer', 19),\n",
       " ('source', 19),\n",
       " ('traditional', 19),\n",
       " ('result', 19),\n",
       " ('stake', 18),\n",
       " ('use', 18),\n",
       " ('game', 17),\n",
       " ('lead', 17)]"
      ]
     },
     "execution_count": 18,
     "metadata": {},
     "output_type": "execute_result"
    }
   ],
   "source": [
    "word_counts = collections.Counter(ah_text.split())\n",
    "word_counts.most_common(50)"
   ]
  },
  {
   "cell_type": "code",
   "execution_count": 19,
   "metadata": {},
   "outputs": [
    {
     "data": {
      "text/plain": [
       "[(('manage', 'a16z'), 20),\n",
       " (('fund', 'manage'), 19),\n",
       " (('digital', 'asset'), 19),\n",
       " (('portfolio', 'company'), 14),\n",
       " (('purpose', 'not'), 13),\n",
       " (('provide', 'informational'), 11),\n",
       " (('informational', 'purpose'), 11),\n",
       " (('not', 'rely'), 11),\n",
       " (('rely', 'make'), 11),\n",
       " (('andreessen', 'horowitz'), 10),\n",
       " (('check', 'inbox'), 10),\n",
       " (('inbox', 'welcome'), 10),\n",
       " (('welcome', 'note'), 10),\n",
       " (('a16z', 'not'), 10),\n",
       " (('opinion', 'express'), 10),\n",
       " (('list', 'investment'), 9),\n",
       " (('layer', '1'), 9),\n",
       " (('layer', '2'), 9),\n",
       " (('investment', 'vehicle'), 8),\n",
       " (('publicly', 'trade'), 8),\n",
       " (('smart', 'contract'), 8),\n",
       " (('sleep', 'mint'), 8),\n",
       " (('new', 'site'), 7),\n",
       " (('site', 'understand'), 7),\n",
       " (('understand', 'future'), 7),\n",
       " (('future', 'tech'), 7),\n",
       " (('tech', 'shape'), 7),\n",
       " (('shape', 'build'), 7),\n",
       " (('a16z', 'crypto'), 7),\n",
       " (('investment', 'portfolio'), 7),\n",
       " (('company', 'mention'), 7),\n",
       " (('mention', 'refer'), 7),\n",
       " (('refer', 'describe'), 7),\n",
       " (('not', 'representative'), 7),\n",
       " (('representative', 'investment'), 7),\n",
       " (('vehicle', 'manage'), 7),\n",
       " (('a16z', 'assurance'), 7),\n",
       " (('assurance', 'investment'), 7),\n",
       " (('investment', 'profitable'), 7),\n",
       " (('profitable', 'investment'), 7),\n",
       " (('investment', 'future'), 7),\n",
       " (('future', 'similar'), 7),\n",
       " (('similar', 'characteristic'), 7),\n",
       " (('characteristic', 'result'), 7),\n",
       " (('investment', 'fund'), 7),\n",
       " (('available', 'https://a16z.com/investments/.'), 7),\n",
       " (('investment', 'issuer'), 7),\n",
       " (('issuer', 'not'), 7),\n",
       " (('not', 'provide'), 7),\n",
       " (('provide', 'permission'), 7)]"
      ]
     },
     "execution_count": 19,
     "metadata": {},
     "output_type": "execute_result"
    }
   ],
   "source": [
    "bg = bigrams(ah_text.split())\n",
    "bigram_counts = collections.Counter(bg)\n",
    "bigram_counts.most_common(50)"
   ]
  },
  {
   "cell_type": "code",
   "execution_count": 22,
   "metadata": {},
   "outputs": [
    {
     "data": {
      "text/plain": [
       "[(('fund', 'manage', 'a16z'), 13),\n",
       " (('provide', 'informational', 'purpose'), 11),\n",
       " (('check', 'inbox', 'welcome'), 10),\n",
       " (('inbox', 'welcome', 'note'), 10),\n",
       " (('new', 'site', 'understand'), 7),\n",
       " (('site', 'understand', 'future'), 7),\n",
       " (('understand', 'future', 'tech'), 7),\n",
       " (('future', 'tech', 'shape'), 7),\n",
       " (('tech', 'shape', 'build'), 7),\n",
       " (('investment', 'portfolio', 'company'), 7),\n",
       " (('portfolio', 'company', 'mention'), 7),\n",
       " (('company', 'mention', 'refer'), 7),\n",
       " (('mention', 'refer', 'describe'), 7),\n",
       " (('not', 'representative', 'investment'), 7),\n",
       " (('representative', 'investment', 'vehicle'), 7),\n",
       " (('investment', 'vehicle', 'manage'), 7),\n",
       " (('vehicle', 'manage', 'a16z'), 7),\n",
       " (('manage', 'a16z', 'assurance'), 7),\n",
       " (('a16z', 'assurance', 'investment'), 7),\n",
       " (('assurance', 'investment', 'profitable'), 7),\n",
       " (('investment', 'profitable', 'investment'), 7),\n",
       " (('profitable', 'investment', 'future'), 7),\n",
       " (('investment', 'future', 'similar'), 7),\n",
       " (('future', 'similar', 'characteristic'), 7),\n",
       " (('similar', 'characteristic', 'result'), 7),\n",
       " (('list', 'investment', 'fund'), 7),\n",
       " (('investment', 'fund', 'manage'), 7),\n",
       " (('investment', 'issuer', 'not'), 7),\n",
       " (('issuer', 'not', 'provide'), 7),\n",
       " (('not', 'provide', 'permission'), 7),\n",
       " (('provide', 'permission', 'a16z'), 7),\n",
       " (('permission', 'a16z', 'disclose'), 7),\n",
       " (('a16z', 'disclose', 'publicly'), 7),\n",
       " (('disclose', 'publicly', 'unannounced'), 7),\n",
       " (('publicly', 'unannounced', 'investment'), 7),\n",
       " (('unannounced', 'investment', 'publicly'), 7),\n",
       " (('investment', 'publicly', 'trade'), 7),\n",
       " (('publicly', 'trade', 'digital'), 7),\n",
       " (('trade', 'digital', 'asset'), 7),\n",
       " (('indicative', 'future', 'result'), 6),\n",
       " (('sign', 'check', 'inbox'), 6),\n",
       " (('view', 'express', 'individual'), 6),\n",
       " (('express', 'individual', 'ah'), 6),\n",
       " (('individual', 'ah', 'capital'), 6),\n",
       " (('ah', 'capital', 'management'), 6),\n",
       " (('capital', 'management', 'l.l.c'), 6),\n",
       " (('management', 'l.l.c', '\"'), 6),\n",
       " (('l.l.c', '\"', 'a16z'), 6),\n",
       " (('\"', 'a16z', '\"'), 6),\n",
       " (('a16z', '\"', 'personnel'), 6)]"
      ]
     },
     "execution_count": 22,
     "metadata": {},
     "output_type": "execute_result"
    }
   ],
   "source": [
    "tg = trigrams(ah_text.split())\n",
    "trigram_counts = collections.Counter(tg)\n",
    "trigram_counts.most_common(50)"
   ]
  },
  {
   "cell_type": "code",
   "execution_count": null,
   "metadata": {},
   "outputs": [],
   "source": []
  }
 ],
 "metadata": {
  "kernelspec": {
   "display_name": "Python 3",
   "language": "python",
   "name": "python3"
  },
  "language_info": {
   "codemirror_mode": {
    "name": "ipython",
    "version": 3
   },
   "file_extension": ".py",
   "mimetype": "text/x-python",
   "name": "python",
   "nbconvert_exporter": "python",
   "pygments_lexer": "ipython3",
   "version": "3.8.5"
  }
 },
 "nbformat": 4,
 "nbformat_minor": 4
}
