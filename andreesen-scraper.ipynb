{
 "cells": [
  {
   "cell_type": "code",
   "execution_count": 1,
   "metadata": {},
   "outputs": [
    {
     "name": "stderr",
     "output_type": "stream",
     "text": [
      "/opt/anaconda3/lib/python3.8/site-packages/requests/__init__.py:89: RequestsDependencyWarning: urllib3 (1.26.9) or chardet (3.0.4) doesn't match a supported version!\n",
      "  warnings.warn(\"urllib3 ({}) or chardet ({}) doesn't match a supported \"\n"
     ]
    }
   ],
   "source": [
    "from bs4 import BeautifulSoup\n",
    "from urllib.request import Request, urlopen\n",
    "import requests\n",
    "\n",
    "import pandas as pd\n",
    "import os\n",
    "import regex as re\n",
    "import string\n",
    "import numpy as np\n",
    "import collections\n",
    "\n",
    "import contractions\n",
    "import spacy\n",
    "#from spacy.tokenizer import Tokenizer\n",
    "import en_core_web_sm\n",
    "import nltk\n",
    "#from nltk.stem import WordNetLemmatizer\n",
    "from nltk import bigrams, trigrams\n",
    "#from sklearn.base import TransformerMixin, BaseEstimator\n",
    "#import sys\n",
    "\n",
    "#I know this is silly, but whatever. People love it\n",
    "from wordcloud import WordCloud"
   ]
  },
  {
   "cell_type": "code",
   "execution_count": 2,
   "metadata": {},
   "outputs": [],
   "source": [
    "#https://hackernoon.com/scraping-amazon-product-information-with-python-and-beautifulsoup-yn4s3tgr\n",
    "#https://martechwithme.com/schedule-python-scripts-windows-mac/\n",
    "#https://www.dataquest.io/blog/web-scraping-python-using-beautiful-soup/\n",
    "#headers = {'User-Agent': 'Mozilla/5.0 (Windows NT 10.0; Win64; x64) AppleWebKit/537.36 (KHTML, like Gecko) Chrome/58.0.3029.110 Safari/537.3'}"
   ]
  },
  {
   "cell_type": "code",
   "execution_count": 3,
   "metadata": {},
   "outputs": [],
   "source": [
    "def get_paragraph_text(url, hdr):\n",
    "    \n",
    "    try:\n",
    "        \n",
    "        req = Request(url,headers=hdr)\n",
    "        page = urlopen(req)\n",
    "    \n",
    "    except:\n",
    "        \n",
    "        print(\"http failed, trying https:\")\n",
    "        \n",
    "        try:\n",
    "            url = url.replace('http:', 'https:')\n",
    "            req = Request(url,headers=hdr)\n",
    "            page = urlopen(req)\n",
    "        \n",
    "        except Exception as e:\n",
    "            print(\"substitution of https also failed. Error is {}\".format(e))\n",
    "            \n",
    "    else:\n",
    "   \n",
    "        soup = BeautifulSoup(page, 'html.parser')\n",
    "\n",
    "        p=soup.find_all('p')\n",
    "        text = ' '.join(t.get_text() for t in p)\n",
    "\n",
    "        return text\n",
    "    "
   ]
  },
  {
   "cell_type": "code",
   "execution_count": 4,
   "metadata": {},
   "outputs": [],
   "source": [
    "\n",
    "ah_url = 'https://a16z.com/crypto/'\n",
    "#hdr = {'User-Agent': 'Mozilla/5.0'}\n",
    "#hdr = {'User-Agent': 'Mozilla/5.0 (Macintosh; Intel Mac OS X 10.15; rv:97.0) Gecko/20100101 Firefox/97.0'}\n",
    "       #(Windows NT 10.0; Win64; x64) AppleWebKit/537.36 (KHTML, like Gecko) Chrome/58.0.3029.110 Safari/537.3'}\n",
    "    \n",
    "    \n",
    "hdr = {'User-Agent': 'Mozilla/5.0 (X11; Linux x86_64) AppleWebKit/537.11 (KHTML, like Gecko) Chrome/23.0.1271.64 Safari/537.11',\n",
    "       'Accept': 'text/html,application/xhtml+xml,application/xml;q=0.9,*/*;q=0.8',\n",
    "       'Accept-Charset': 'ISO-8859-1,utf-8;q=0.7,*;q=0.3',\n",
    "       'Accept-Encoding': 'none',\n",
    "       'Accept-Language': 'en-US,en;q=0.8',\n",
    "       'Connection': 'keep-alive'}\n",
    "\n",
    "# hdr = {'User-Agent':'Mozilla/5.0',\n",
    "#         'Accept': 'text/html,application/xhtml+xml,application/xml;q=0.9,image/webp,*/*;q=0.8',\n",
    "#         'Accept-Charset': 'ISO-8859-1,utf-8;q=0.7,*;q=0.3',\n",
    "#         'Accept-Encoding': 'gzip, deflate, sdch',\n",
    "#         'Accept-Language': 'en-US,en;q=0.8',\n",
    "#         'Connection': 'keep-alive'}\n",
    "\n",
    "req = Request(ah_url,headers=hdr)\n",
    "page = urlopen(req)\n",
    "soup = BeautifulSoup(page, 'html.parser')\n",
    "#print(soup.prettify())"
   ]
  },
  {
   "cell_type": "code",
   "execution_count": 5,
   "metadata": {},
   "outputs": [
    {
     "name": "stdout",
     "output_type": "stream",
     "text": [
      "a16z crypto is a venture capital fund that invests in crypto and web3 startups.  the first era of the modern internet (roughly 1990-2005) was about open protocols that were decentralized and community-governed. most of the value accrued to the edges of the network: users and builders. the second era of the internet (roughly 2005-2020) favored siloed, centralized services. most of the value accrued to a handful of large tech companies. we are now beginning the third era of the internet — what many call web3 — which combines the decentralized, community-governed ethos of the first era with the advanced, modern functionality of the second era. this will unlock a new wave of creativity and entrepreneurship. a16z crypto supports our portfolio and the growth of web3 through our research organization; engineering and security teams; legal and regulatory teams; recruiting services; go-to-market expertise; educational content; and more. any investments or portfolio companies mentioned, referred to, or described on this page are not representative of all investments in vehicles managed by a16z crypto and there can be no assurance that the investments will be profitable or that other investments made in the future will have similar characteristics or results. exits include current and former a16z portfolio companies which have been acquired as well as companies which have undergone an initial public offering or direct public offering of shares. certain publicly traded companies on the list may still be held in andreessen horowitz funds. a list of investments made by funds managed by a16z is available at a16z.com/investments/. excluded from this list are investments for which the issuer has not provided permission for a16z to disclose publicly as well as unannounced investments in publicly traded digital assets. further, the list of investments is updated monthly and as such may not reflect most recent investments. past results of andreessen horowitz’s investments, pooled investment vehicles, or investment strategies are not necessarily indicative of future results. for more important information see a16z.com/disclosures/.\n"
     ]
    }
   ],
   "source": [
    "#get text from the main AH crypto landing site\n",
    "main_site_text = get_paragraph_text(ah_url, hdr).lower()\n",
    "print(main_site_text)"
   ]
  },
  {
   "cell_type": "code",
   "execution_count": 6,
   "metadata": {},
   "outputs": [
    {
     "name": "stdout",
     "output_type": "stream",
     "text": [
      "[]\n",
      "\n"
     ]
    }
   ],
   "source": [
    "#get urls for content posts\n",
    "content_sites = []\n",
    "content_text = ''\n",
    "for a in soup.find_all('a', class_=\"vertical-landing-post vertical-landing-post--no-image\", href=True):\n",
    "    content_sites.append(a['href'])\n",
    "    \n",
    "    content_text = content_text + ' ' + contractions.fix(get_paragraph_text(a['href'], hdr).lower())\n",
    "    \n",
    "    #content_text.append(get_paragraph_text(a['href'], hdr).lower())\n",
    "    \n",
    "    \n",
    "print(content_sites)\n",
    "print(content_text)"
   ]
  },
  {
   "cell_type": "code",
   "execution_count": 7,
   "metadata": {},
   "outputs": [],
   "source": [
    "portfolio_divs = soup.find_all(\"div\", {\"class\": \"company company-type--crypto company--single-company\"})\n",
    "\n",
    "portfolio_websites = []\n",
    "portfolio_text = ''\n",
    "failed_websites = []\n",
    "\n",
    "for tag in portfolio_divs:\n",
    "    a_tags = tag.find_all(\"a\", href=True)\n",
    "    \n",
    "    url = a_tags[0]['href']\n",
    "\n",
    "    text = get_paragraph_text(url, hdr)\n",
    "    \n",
    "    if not isinstance(text, type(None)):\n",
    "        \n",
    "        #portfolio_text.append(get_paragraph_text(url, hdr).lower())\n",
    "        \n",
    "        portfolio_text = portfolio_text + ' ' + contractions.fix(get_paragraph_text(url, hdr).lower())\n",
    "        \n",
    "        portfolio_websites.append(url)\n",
    "        \n",
    "    else:\n",
    "        failed_websites.append(url)\n",
    "\n",
    "\n"
   ]
  },
  {
   "cell_type": "code",
   "execution_count": 8,
   "metadata": {},
   "outputs": [
    {
     "data": {
      "text/plain": [
       "[]"
      ]
     },
     "execution_count": 8,
     "metadata": {},
     "output_type": "execute_result"
    }
   ],
   "source": [
    "portfolio_websites"
   ]
  },
  {
   "cell_type": "code",
   "execution_count": 9,
   "metadata": {},
   "outputs": [
    {
     "data": {
      "text/plain": [
       "[]"
      ]
     },
     "execution_count": 9,
     "metadata": {},
     "output_type": "execute_result"
    }
   ],
   "source": [
    "failed_websites"
   ]
  },
  {
   "cell_type": "code",
   "execution_count": 10,
   "metadata": {},
   "outputs": [
    {
     "data": {
      "text/plain": [
       "''"
      ]
     },
     "execution_count": 10,
     "metadata": {},
     "output_type": "execute_result"
    }
   ],
   "source": [
    "portfolio_text"
   ]
  },
  {
   "cell_type": "code",
   "execution_count": 11,
   "metadata": {},
   "outputs": [],
   "source": [
    "##If running for the first time\n",
    "#nltk.download('punkt')\n",
    "#nltk.download('stopwords')\n",
    "#nltk.download('wordnet')\n",
    "\n",
    "nlp = spacy.load(\"en_core_web_sm\", disable=['parser', 'ner'])\n",
    "\n",
    "# #fix some spacy lemma issues (e.g., \"datum\" and \"scientist\" not resulting in \"science\")\n",
    "# nlp.get_pipe('lemmatizer').lookups.get_table(\"lemma_exc\")[\"noun\"][\"data\"] = [\"data\"]\n",
    "# nlp.get_pipe('lemmatizer').lookups.get_table(\"lemma_exc\")[\"noun\"][\"scientist\"] = [\"science\"]\n",
    "# nlp.get_pipe('lemmatizer').lookups.get_table(\"lemma_exc\")[\"noun\"][\"artificial intelligence\"] = [\"ai\"]\n",
    "\n",
    "\n",
    "#change/include additional stop words\n",
    "customize_stop_words = {'not':False, \n",
    "                        '\\n\\n':True, \n",
    "                        '\\n\\n\\n':True}\n",
    "\n",
    "\n",
    "for w,val in customize_stop_words.items():\n",
    "    nlp.vocab[w].is_stop = val"
   ]
  },
  {
   "cell_type": "code",
   "execution_count": 12,
   "metadata": {},
   "outputs": [],
   "source": [
    "#https://www.kaggle.com/balatmak/text-preprocessing-steps-and-universal-pipeline\n",
    "\n",
    "class TextPreprocessor(object):\n",
    "    def __init__(self):\n",
    "        \"\"\"\n",
    "        TBD\n",
    "        \"\"\"\n",
    "\n",
    "    def preprocess_df(self, df):\n",
    "        return df.apply(self._preprocess_text)\n",
    "\n",
    "    def preprocess_text(self, text):\n",
    "        doc = nlp(text)\n",
    "        removed_punct = self._remove_punct(doc)\n",
    "        removed_stop_words = self._remove_stop_words(removed_punct)\n",
    "\n",
    "        return self._lemmatize(removed_stop_words)\n",
    "\n",
    "    def _remove_punct(self, doc):\n",
    "        return [t for t in doc if t.text not in string.punctuation]\n",
    "\n",
    "    def _remove_stop_words(self, doc):\n",
    "        return [t for t in doc if not t.is_stop]\n",
    "\n",
    "    def _lemmatize(self, doc):\n",
    "        \n",
    "        lemma_text = ' '.join([t.lemma_ for t in doc])\n",
    "        \n",
    "        return re.sub('\\s+',' ',lemma_text)\n",
    "        \n",
    "        "
   ]
  },
  {
   "cell_type": "code",
   "execution_count": 13,
   "metadata": {},
   "outputs": [],
   "source": [
    "#main_site_text = contractions.fix(main_site_text)\n",
    "\n",
    "#content_text = ' '.join(content_text)\n"
   ]
  },
  {
   "cell_type": "code",
   "execution_count": 14,
   "metadata": {},
   "outputs": [],
   "source": [
    "ah_text = main_site_text + ' ' + content_text\n",
    "ah_text = TextPreprocessor().preprocess_text(ah_text)\n",
    "\n",
    "portfolio_text = TextPreprocessor().preprocess_text(portfolio_text)"
   ]
  },
  {
   "cell_type": "code",
   "execution_count": 15,
   "metadata": {},
   "outputs": [],
   "source": [
    "# content_text = ' '.join(content_text)"
   ]
  },
  {
   "cell_type": "code",
   "execution_count": 16,
   "metadata": {},
   "outputs": [
    {
     "data": {
      "text/plain": [
       "[('investment', 12),\n",
       " ('a16z', 6),\n",
       " ('era', 5),\n",
       " ('company', 5),\n",
       " ('crypto', 4),\n",
       " ('not', 4),\n",
       " ('list', 4),\n",
       " ('fund', 3),\n",
       " ('web3', 3),\n",
       " ('internet', 3),\n",
       " ('portfolio', 3),\n",
       " ('result', 3),\n",
       " ('publicly', 3),\n",
       " ('modern', 2),\n",
       " ('roughly', 2),\n",
       " ('2005', 2),\n",
       " ('decentralize', 2),\n",
       " ('community', 2),\n",
       " ('govern', 2),\n",
       " ('value', 2),\n",
       " ('accrue', 2),\n",
       " ('second', 2),\n",
       " ('service', 2),\n",
       " ('—', 2),\n",
       " ('team', 2),\n",
       " ('vehicle', 2),\n",
       " ('manage', 2),\n",
       " ('future', 2),\n",
       " ('public', 2),\n",
       " ('offering', 2),\n",
       " ('trade', 2),\n",
       " ('andreessen', 2),\n",
       " ('horowitz', 2),\n",
       " ('venture', 1),\n",
       " ('capital', 1),\n",
       " ('invest', 1),\n",
       " ('startup', 1),\n",
       " ('1990', 1),\n",
       " ('open', 1),\n",
       " ('protocol', 1),\n",
       " ('edge', 1),\n",
       " ('network', 1),\n",
       " ('user', 1),\n",
       " ('builder', 1),\n",
       " ('2020', 1),\n",
       " ('favor', 1),\n",
       " ('siloe', 1),\n",
       " ('centralized', 1),\n",
       " ('handful', 1),\n",
       " ('large', 1)]"
      ]
     },
     "execution_count": 16,
     "metadata": {},
     "output_type": "execute_result"
    }
   ],
   "source": [
    "word_counts = collections.Counter(ah_text.split())\n",
    "bg = bigrams(ah_text.split())\n",
    "bigram_counts = collections.Counter(bg)\n",
    "tg = trigrams(ah_text.split())\n",
    "trigram_counts = collections.Counter(tg)\n",
    "\n",
    "word_counts.most_common(50)"
   ]
  },
  {
   "cell_type": "code",
   "execution_count": 17,
   "metadata": {},
   "outputs": [
    {
     "data": {
      "text/plain": [
       "[(('a16z', 'crypto'), 3),\n",
       " (('list', 'investment'), 3),\n",
       " (('internet', 'roughly'), 2),\n",
       " (('decentralize', 'community'), 2),\n",
       " (('community', 'govern'), 2),\n",
       " (('value', 'accrue'), 2),\n",
       " (('second', 'era'), 2),\n",
       " (('era', 'internet'), 2),\n",
       " (('portfolio', 'company'), 2),\n",
       " (('investment', 'vehicle'), 2),\n",
       " (('manage', 'a16z'), 2),\n",
       " (('public', 'offering'), 2),\n",
       " (('publicly', 'trade'), 2),\n",
       " (('andreessen', 'horowitz'), 2),\n",
       " (('crypto', 'venture'), 1),\n",
       " (('venture', 'capital'), 1),\n",
       " (('capital', 'fund'), 1),\n",
       " (('fund', 'invest'), 1),\n",
       " (('invest', 'crypto'), 1),\n",
       " (('crypto', 'web3'), 1),\n",
       " (('web3', 'startup'), 1),\n",
       " (('startup', 'era'), 1),\n",
       " (('era', 'modern'), 1),\n",
       " (('modern', 'internet'), 1),\n",
       " (('roughly', '1990'), 1),\n",
       " (('1990', '2005'), 1),\n",
       " (('2005', 'open'), 1),\n",
       " (('open', 'protocol'), 1),\n",
       " (('protocol', 'decentralize'), 1),\n",
       " (('govern', 'value'), 1),\n",
       " (('accrue', 'edge'), 1),\n",
       " (('edge', 'network'), 1),\n",
       " (('network', 'user'), 1),\n",
       " (('user', 'builder'), 1),\n",
       " (('builder', 'second'), 1),\n",
       " (('roughly', '2005'), 1),\n",
       " (('2005', '2020'), 1),\n",
       " (('2020', 'favor'), 1),\n",
       " (('favor', 'siloe'), 1),\n",
       " (('siloe', 'centralized'), 1),\n",
       " (('centralized', 'service'), 1),\n",
       " (('service', 'value'), 1),\n",
       " (('accrue', 'handful'), 1),\n",
       " (('handful', 'large'), 1),\n",
       " (('large', 'tech'), 1),\n",
       " (('tech', 'company'), 1),\n",
       " (('company', 'begin'), 1),\n",
       " (('begin', 'era'), 1),\n",
       " (('internet', '—'), 1),\n",
       " (('—', 'web3'), 1)]"
      ]
     },
     "execution_count": 17,
     "metadata": {},
     "output_type": "execute_result"
    }
   ],
   "source": [
    "bigram_counts.most_common(50)"
   ]
  },
  {
   "cell_type": "code",
   "execution_count": 18,
   "metadata": {},
   "outputs": [
    {
     "data": {
      "text/plain": [
       "[(('decentralize', 'community', 'govern'), 2),\n",
       " (('a16z', 'crypto', 'venture'), 1),\n",
       " (('crypto', 'venture', 'capital'), 1),\n",
       " (('venture', 'capital', 'fund'), 1),\n",
       " (('capital', 'fund', 'invest'), 1),\n",
       " (('fund', 'invest', 'crypto'), 1),\n",
       " (('invest', 'crypto', 'web3'), 1),\n",
       " (('crypto', 'web3', 'startup'), 1),\n",
       " (('web3', 'startup', 'era'), 1),\n",
       " (('startup', 'era', 'modern'), 1),\n",
       " (('era', 'modern', 'internet'), 1),\n",
       " (('modern', 'internet', 'roughly'), 1),\n",
       " (('internet', 'roughly', '1990'), 1),\n",
       " (('roughly', '1990', '2005'), 1),\n",
       " (('1990', '2005', 'open'), 1),\n",
       " (('2005', 'open', 'protocol'), 1),\n",
       " (('open', 'protocol', 'decentralize'), 1),\n",
       " (('protocol', 'decentralize', 'community'), 1),\n",
       " (('community', 'govern', 'value'), 1),\n",
       " (('govern', 'value', 'accrue'), 1),\n",
       " (('value', 'accrue', 'edge'), 1),\n",
       " (('accrue', 'edge', 'network'), 1),\n",
       " (('edge', 'network', 'user'), 1),\n",
       " (('network', 'user', 'builder'), 1),\n",
       " (('user', 'builder', 'second'), 1),\n",
       " (('builder', 'second', 'era'), 1),\n",
       " (('second', 'era', 'internet'), 1),\n",
       " (('era', 'internet', 'roughly'), 1),\n",
       " (('internet', 'roughly', '2005'), 1),\n",
       " (('roughly', '2005', '2020'), 1),\n",
       " (('2005', '2020', 'favor'), 1),\n",
       " (('2020', 'favor', 'siloe'), 1),\n",
       " (('favor', 'siloe', 'centralized'), 1),\n",
       " (('siloe', 'centralized', 'service'), 1),\n",
       " (('centralized', 'service', 'value'), 1),\n",
       " (('service', 'value', 'accrue'), 1),\n",
       " (('value', 'accrue', 'handful'), 1),\n",
       " (('accrue', 'handful', 'large'), 1),\n",
       " (('handful', 'large', 'tech'), 1),\n",
       " (('large', 'tech', 'company'), 1),\n",
       " (('tech', 'company', 'begin'), 1),\n",
       " (('company', 'begin', 'era'), 1),\n",
       " (('begin', 'era', 'internet'), 1),\n",
       " (('era', 'internet', '—'), 1),\n",
       " (('internet', '—', 'web3'), 1),\n",
       " (('—', 'web3', '—'), 1),\n",
       " (('web3', '—', 'combine'), 1),\n",
       " (('—', 'combine', 'decentralize'), 1),\n",
       " (('combine', 'decentralize', 'community'), 1),\n",
       " (('community', 'govern', 'ethos'), 1)]"
      ]
     },
     "execution_count": 18,
     "metadata": {},
     "output_type": "execute_result"
    }
   ],
   "source": [
    "trigram_counts.most_common(50)"
   ]
  },
  {
   "cell_type": "code",
   "execution_count": 19,
   "metadata": {},
   "outputs": [
    {
     "data": {
      "text/plain": [
       "[]"
      ]
     },
     "execution_count": 19,
     "metadata": {},
     "output_type": "execute_result"
    }
   ],
   "source": [
    "word_counts = collections.Counter(portfolio_text.split())\n",
    "bg = bigrams(portfolio_text.split())\n",
    "bigram_counts = collections.Counter(bg)\n",
    "tg = trigrams(portfolio_text.split())\n",
    "trigram_counts = collections.Counter(tg)\n",
    "\n",
    "word_counts.most_common(50)"
   ]
  },
  {
   "cell_type": "code",
   "execution_count": 20,
   "metadata": {},
   "outputs": [
    {
     "data": {
      "text/plain": [
       "[]"
      ]
     },
     "execution_count": 20,
     "metadata": {},
     "output_type": "execute_result"
    }
   ],
   "source": [
    "bigram_counts.most_common(50)"
   ]
  },
  {
   "cell_type": "code",
   "execution_count": 21,
   "metadata": {},
   "outputs": [
    {
     "data": {
      "text/plain": [
       "[]"
      ]
     },
     "execution_count": 21,
     "metadata": {},
     "output_type": "execute_result"
    }
   ],
   "source": [
    "trigram_counts.most_common(50)"
   ]
  },
  {
   "cell_type": "code",
   "execution_count": 22,
   "metadata": {},
   "outputs": [
    {
     "data": {
      "image/png": "[encoded data removed]",
      "text/plain": [
       "<PIL.Image.Image image mode=RGB size=400x200 at 0x7F8ACAEFE220>"
      ]
     },
     "execution_count": 22,
     "metadata": {},
     "output_type": "execute_result"
    }
   ],
   "source": [
    "wordcloud = WordCloud(background_color=\"white\", max_words=5000, contour_width=3, contour_color='steelblue')# Generate a word cloud\n",
    "wordcloud.generate(ah_text)# Visualize the word cloud\n",
    "wordcloud.to_image()"
   ]
  },
  {
   "cell_type": "code",
   "execution_count": 23,
   "metadata": {},
   "outputs": [
    {
     "ename": "ValueError",
     "evalue": "We need at least 1 word to plot a word cloud, got 0.",
     "output_type": "error",
     "traceback": [
      "\u001b[0;31m---------------------------------------------------------------------------\u001b[0m",
      "\u001b[0;31mValueError\u001b[0m                                Traceback (most recent call last)",
      "\u001b[0;32m<ipython-input-23-4593b0244996>\u001b[0m in \u001b[0;36m<module>\u001b[0;34m\u001b[0m\n\u001b[1;32m      1\u001b[0m \u001b[0mwordcloud\u001b[0m \u001b[0;34m=\u001b[0m \u001b[0mWordCloud\u001b[0m\u001b[0;34m(\u001b[0m\u001b[0mbackground_color\u001b[0m\u001b[0;34m=\u001b[0m\u001b[0;34m\"white\"\u001b[0m\u001b[0;34m,\u001b[0m \u001b[0mmax_words\u001b[0m\u001b[0;34m=\u001b[0m\u001b[0;36m5000\u001b[0m\u001b[0;34m,\u001b[0m \u001b[0mcontour_width\u001b[0m\u001b[0;34m=\u001b[0m\u001b[0;36m3\u001b[0m\u001b[0;34m,\u001b[0m \u001b[0mcontour_color\u001b[0m\u001b[0;34m=\u001b[0m\u001b[0;34m'steelblue'\u001b[0m\u001b[0;34m)\u001b[0m\u001b[0;31m# Generate a word cloud\u001b[0m\u001b[0;34m\u001b[0m\u001b[0;34m\u001b[0m\u001b[0m\n\u001b[0;32m----> 2\u001b[0;31m \u001b[0mwordcloud\u001b[0m\u001b[0;34m.\u001b[0m\u001b[0mgenerate\u001b[0m\u001b[0;34m(\u001b[0m\u001b[0mportfolio_text\u001b[0m\u001b[0;34m)\u001b[0m\u001b[0;31m# Visualize the word cloud\u001b[0m\u001b[0;34m\u001b[0m\u001b[0;34m\u001b[0m\u001b[0m\n\u001b[0m\u001b[1;32m      3\u001b[0m \u001b[0mwordcloud\u001b[0m\u001b[0;34m.\u001b[0m\u001b[0mto_image\u001b[0m\u001b[0;34m(\u001b[0m\u001b[0;34m)\u001b[0m\u001b[0;34m\u001b[0m\u001b[0;34m\u001b[0m\u001b[0m\n",
      "\u001b[0;32m/opt/anaconda3/lib/python3.8/site-packages/wordcloud/wordcloud.py\u001b[0m in \u001b[0;36mgenerate\u001b[0;34m(self, text)\u001b[0m\n\u001b[1;32m    630\u001b[0m         \u001b[0mself\u001b[0m\u001b[0;34m\u001b[0m\u001b[0;34m\u001b[0m\u001b[0m\n\u001b[1;32m    631\u001b[0m         \"\"\"\n\u001b[0;32m--> 632\u001b[0;31m         \u001b[0;32mreturn\u001b[0m \u001b[0mself\u001b[0m\u001b[0;34m.\u001b[0m\u001b[0mgenerate_from_text\u001b[0m\u001b[0;34m(\u001b[0m\u001b[0mtext\u001b[0m\u001b[0;34m)\u001b[0m\u001b[0;34m\u001b[0m\u001b[0;34m\u001b[0m\u001b[0m\n\u001b[0m\u001b[1;32m    633\u001b[0m \u001b[0;34m\u001b[0m\u001b[0m\n\u001b[1;32m    634\u001b[0m     \u001b[0;32mdef\u001b[0m \u001b[0m_check_generated\u001b[0m\u001b[0;34m(\u001b[0m\u001b[0mself\u001b[0m\u001b[0;34m)\u001b[0m\u001b[0;34m:\u001b[0m\u001b[0;34m\u001b[0m\u001b[0;34m\u001b[0m\u001b[0m\n",
      "\u001b[0;32m/opt/anaconda3/lib/python3.8/site-packages/wordcloud/wordcloud.py\u001b[0m in \u001b[0;36mgenerate_from_text\u001b[0;34m(self, text)\u001b[0m\n\u001b[1;32m    612\u001b[0m         \"\"\"\n\u001b[1;32m    613\u001b[0m         \u001b[0mwords\u001b[0m \u001b[0;34m=\u001b[0m \u001b[0mself\u001b[0m\u001b[0;34m.\u001b[0m\u001b[0mprocess_text\u001b[0m\u001b[0;34m(\u001b[0m\u001b[0mtext\u001b[0m\u001b[0;34m)\u001b[0m\u001b[0;34m\u001b[0m\u001b[0;34m\u001b[0m\u001b[0m\n\u001b[0;32m--> 614\u001b[0;31m         \u001b[0mself\u001b[0m\u001b[0;34m.\u001b[0m\u001b[0mgenerate_from_frequencies\u001b[0m\u001b[0;34m(\u001b[0m\u001b[0mwords\u001b[0m\u001b[0;34m)\u001b[0m\u001b[0;34m\u001b[0m\u001b[0;34m\u001b[0m\u001b[0m\n\u001b[0m\u001b[1;32m    615\u001b[0m         \u001b[0;32mreturn\u001b[0m \u001b[0mself\u001b[0m\u001b[0;34m\u001b[0m\u001b[0;34m\u001b[0m\u001b[0m\n\u001b[1;32m    616\u001b[0m \u001b[0;34m\u001b[0m\u001b[0m\n",
      "\u001b[0;32m/opt/anaconda3/lib/python3.8/site-packages/wordcloud/wordcloud.py\u001b[0m in \u001b[0;36mgenerate_from_frequencies\u001b[0;34m(self, frequencies, max_font_size)\u001b[0m\n\u001b[1;32m    401\u001b[0m         \u001b[0mfrequencies\u001b[0m \u001b[0;34m=\u001b[0m \u001b[0msorted\u001b[0m\u001b[0;34m(\u001b[0m\u001b[0mfrequencies\u001b[0m\u001b[0;34m.\u001b[0m\u001b[0mitems\u001b[0m\u001b[0;34m(\u001b[0m\u001b[0;34m)\u001b[0m\u001b[0;34m,\u001b[0m \u001b[0mkey\u001b[0m\u001b[0;34m=\u001b[0m\u001b[0mitemgetter\u001b[0m\u001b[0;34m(\u001b[0m\u001b[0;36m1\u001b[0m\u001b[0;34m)\u001b[0m\u001b[0;34m,\u001b[0m \u001b[0mreverse\u001b[0m\u001b[0;34m=\u001b[0m\u001b[0;32mTrue\u001b[0m\u001b[0;34m)\u001b[0m\u001b[0;34m\u001b[0m\u001b[0;34m\u001b[0m\u001b[0m\n\u001b[1;32m    402\u001b[0m         \u001b[0;32mif\u001b[0m \u001b[0mlen\u001b[0m\u001b[0;34m(\u001b[0m\u001b[0mfrequencies\u001b[0m\u001b[0;34m)\u001b[0m \u001b[0;34m<=\u001b[0m \u001b[0;36m0\u001b[0m\u001b[0;34m:\u001b[0m\u001b[0;34m\u001b[0m\u001b[0;34m\u001b[0m\u001b[0m\n\u001b[0;32m--> 403\u001b[0;31m             raise ValueError(\"We need at least 1 word to plot a word cloud, \"\n\u001b[0m\u001b[1;32m    404\u001b[0m                              \"got %d.\" % len(frequencies))\n\u001b[1;32m    405\u001b[0m         \u001b[0mfrequencies\u001b[0m \u001b[0;34m=\u001b[0m \u001b[0mfrequencies\u001b[0m\u001b[0;34m[\u001b[0m\u001b[0;34m:\u001b[0m\u001b[0mself\u001b[0m\u001b[0;34m.\u001b[0m\u001b[0mmax_words\u001b[0m\u001b[0;34m]\u001b[0m\u001b[0;34m\u001b[0m\u001b[0;34m\u001b[0m\u001b[0m\n",
      "\u001b[0;31mValueError\u001b[0m: We need at least 1 word to plot a word cloud, got 0."
     ]
    }
   ],
   "source": [
    "wordcloud = WordCloud(background_color=\"white\", max_words=5000, contour_width=3, contour_color='steelblue')# Generate a word cloud\n",
    "wordcloud.generate(portfolio_text)# Visualize the word cloud\n",
    "wordcloud.to_image()"
   ]
  },
  {
   "cell_type": "code",
   "execution_count": null,
   "metadata": {},
   "outputs": [],
   "source": []
  }
 ],
 "metadata": {
  "kernelspec": {
   "display_name": "Python 3",
   "language": "python",
   "name": "python3"
  },
  "language_info": {
   "codemirror_mode": {
    "name": "ipython",
    "version": 3
   },
   "file_extension": ".py",
   "mimetype": "text/x-python",
   "name": "python",
   "nbconvert_exporter": "python",
   "pygments_lexer": "ipython3",
   "version": "3.8.5"
  }
 },
 "nbformat": 4,
 "nbformat_minor": 4
}
